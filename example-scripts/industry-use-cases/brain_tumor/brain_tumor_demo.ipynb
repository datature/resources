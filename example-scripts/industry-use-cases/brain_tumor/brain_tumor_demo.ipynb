{
 "cells": [
  {
   "cell_type": "code",
   "execution_count": null,
   "id": "bb8444ad",
   "metadata": {},
   "outputs": [],
   "source": [
    "#!/usr/bin/env python\n",
    "# -*-coding:utf-8 -*-\n",
    "\"\"\"\n",
    "  ████\n",
    "██    ██   Datature\n",
    "  ██  ██   Powering Breakthrough AI\n",
    "    ██\n",
    " \n",
    "@File    :   brain_tumor_demo_nifti_upload.ipynb\n",
    "@Authors :   Koh Quan Wei Ivan, Hoki Fung\n",
    "@Version :   1.0\n",
    "@Contact :   hello@datature.io\n",
    "@License :   Apache License 2.0\n",
    "@Desc    :   Demo notebook for uploading NIfTI files to Datature\n",
    "             Nexus using Datature Python SDK.\n",
    "\"\"\""
   ]
  },
  {
   "attachments": {},
   "cell_type": "markdown",
   "id": "67ebda10",
   "metadata": {},
   "source": [
    "# Uploading NIFTI files to Datature Nexus"
   ]
  },
  {
   "attachments": {},
   "cell_type": "markdown",
   "id": "9930a9b5",
   "metadata": {},
   "source": [
    "The steps are as follows:\n",
    "\n",
    "1. Sign up for a free Datature account at https://www.datature.io\n",
    "2. Create a new project on Nexus\n",
    "3. Go to the Integrations page\n",
    "4. Choose `Generate New Secret` to get your Secret Key\n",
    "5. Follow this script to use Datature SDK to upload the NIfTI files to Nexus\n",
    "\n",
    "---\n",
    "For NIfTI files, each file is uploaded as a separate 3D volume.\n",
    "    \n",
    "* If the axis of orientation is provided, the SDK will upload a series of 2D slices corresponding to the specified orientation.\\\n",
    "    Hence, you will only see one asset containing multiple slices on Nexus.   \n",
    "    \n",
    "\n",
    "* If the axis of orientation is not provided, the SDK will upload a series of 2D slices for each orientation (x, y, z). \\\n",
    "    Hence, you will see three sets of 2D slices (e.g. axial, coronal, sagittal) for each scan.\n",
    "---\n",
    "\n",
    "For more information about Datature's Python SDK, see https://developers.datature.io/docs/python-sdk."
   ]
  },
  {
   "attachments": {},
   "cell_type": "markdown",
   "id": "524134f8",
   "metadata": {},
   "source": [
    "# Install Datature Library"
   ]
  },
  {
   "cell_type": "code",
   "execution_count": null,
   "id": "2f0405c2",
   "metadata": {},
   "outputs": [],
   "source": [
    "! pip install --upgrade datature"
   ]
  },
  {
   "attachments": {},
   "cell_type": "markdown",
   "id": "368efe00",
   "metadata": {},
   "source": [
    "# Import Libraries"
   ]
  },
  {
   "cell_type": "code",
   "execution_count": null,
   "id": "dd353963",
   "metadata": {},
   "outputs": [],
   "source": [
    "import os\n",
    "import time\n",
    "import datature"
   ]
  },
  {
   "attachments": {},
   "cell_type": "markdown",
   "id": "1dff8b59",
   "metadata": {},
   "source": [
    "# Example: Uploading all NIFTI files in a folder"
   ]
  },
  {
   "attachments": {},
   "cell_type": "markdown",
   "id": "07230aaa",
   "metadata": {},
   "source": [
    "Put your NIfTI files into one folder.\n",
    "\n",
    "* The dataset we used in the tutorial for demonstration and educational purposes can be found here: https://decathlon-10.grand-challenge.org/, but feel free to use your own data.\n",
    "\n",
    "\n",
    "Create an upload session to upload or update assets.\n",
    "\n",
    "* The UploadSession class is designed with two methods, add and start, to support simple and quick batch upload. \n",
    "\n",
    "* The workflow order should be to first add your assets to the session, and once satisfied, use start to begin the upload process.\n",
    "\n",
    "* For the full documentation of UploadSession, see https://developers.datature.io/docs/asset-sdk-functions#uploadsession.\n",
    "\n",
    "For bulk asset upload, Nexus allows users to add up to 5000 assets in one single upload session. \n",
    "\n",
    "* If you are planning to upload more than 5000 assets, simply split them up into different batches. \n",
    "\n",
    "* Codes to do so are provided in Datature's Developers Documentation: https://developers.datature.io/docs/asset-sdk-functions#upload_session."
   ]
  },
  {
   "cell_type": "code",
   "execution_count": null,
   "id": "b4b35626",
   "metadata": {},
   "outputs": [],
   "source": [
    "# Edit these accordingly\n",
    "data_path = \"/Users/Demo_BrainTumor/data\" # PATH_TO_YOUR_DATA_FOLDER\n",
    "secret_key = \"<secret_key>\" # YOUR_PROJECT_SECRET_KEY"
   ]
  },
  {
   "cell_type": "code",
   "execution_count": null,
   "id": "edf85d62",
   "metadata": {},
   "outputs": [],
   "source": [
    "# Initialize an upload session\n",
    "datature.secret_key = secret_key\n",
    "upload_session = datature.Asset.upload_session()"
   ]
  },
  {
   "cell_type": "code",
   "execution_count": null,
   "id": "933abd49",
   "metadata": {},
   "outputs": [],
   "source": [
    "# Add files to the upload session\n",
    "files = os.listdir(data_path)\n",
    "\n",
    "num_files = 0\n",
    "\n",
    "for file in files:\n",
    "    num_files+=1\n",
    "    # add file and specify orientation\n",
    "    # if no orientation is specified, 2D slices for each orientation will be uploaded\n",
    "    upload_session.add(f\"{data_path}/{file}\", orientation=\"z\")"
   ]
  },
  {
   "cell_type": "code",
   "execution_count": null,
   "id": "a9714ade",
   "metadata": {},
   "outputs": [],
   "source": [
    "# Start the upload session in the background and retrieve the operation link for status checks.\n",
    "# This line uploads data to an asset group called \"main\", which is the default. The value can be changed.\n",
    "\n",
    "op_link = upload_session.start([\"main\"], background=True)[\"op_link\"] "
   ]
  },
  {
   "cell_type": "code",
   "execution_count": null,
   "id": "b55fa064",
   "metadata": {},
   "outputs": [],
   "source": [
    "# Check upload status\n",
    "while datature.Operation.retrieve(\n",
    "        op_link)[\"status\"][\"progress\"][\"with_status\"][\"finished\"] != num_files:\n",
    "    \n",
    "          print(\"Uploading...\")\n",
    "          time.sleep(1)\n",
    "        \n",
    "print(f\"Upload Completed! {num_files} files uploaded to Nexus!\")"
   ]
  },
  {
   "cell_type": "code",
   "execution_count": null,
   "id": "d240f29c",
   "metadata": {},
   "outputs": [],
   "source": [
    "# See asset statistics of a specific asset group\n",
    "datature.Asset.group(\"main\")"
   ]
  },
  {
   "cell_type": "code",
   "execution_count": null,
   "id": "c174f31c",
   "metadata": {},
   "outputs": [],
   "source": []
  }
 ],
 "metadata": {
  "kernelspec": {
   "display_name": "datature-edge",
   "language": "python",
   "name": "python3"
  },
  "language_info": {
   "codemirror_mode": {
    "name": "ipython",
    "version": 3
   },
   "file_extension": ".py",
   "mimetype": "text/x-python",
   "name": "python",
   "nbconvert_exporter": "python",
   "pygments_lexer": "ipython3",
   "version": "3.7.15"
  }
 },
 "nbformat": 4,
 "nbformat_minor": 5
}
