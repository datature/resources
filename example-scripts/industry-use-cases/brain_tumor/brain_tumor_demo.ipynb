{
 "cells": [
  {
   "cell_type": "code",
   "execution_count": null,
   "id": "bb8444ad",
   "metadata": {},
   "outputs": [],
   "source": [
    "#!/usr/bin/env python\n",
    "# -*-coding:utf-8 -*-\n",
    "\"\"\"\n",
    "  ████\n",
    "██    ██   Datature\n",
    "  ██  ██   Powering Breakthrough AI\n",
    "    ██\n",
    "\n",
    "@File    :   brain_tumor_demo_nifti_upload.ipynb\n",
    "@Authors :   Koh Quan Wei Ivan, Hoki Fung\n",
    "@Version :   1.0\n",
    "@Contact :   hello@datature.io\n",
    "@License :   Apache License 2.0\n",
    "@Desc    :   Demo notebook for uploading NIfTI files to Datature\n",
    "             Nexus using Datature Python SDK.\n",
    "\"\"\""
   ]
  },
  {
   "attachments": {},
   "cell_type": "markdown",
   "id": "67ebda10",
   "metadata": {},
   "source": [
    "# Uploading NIFTI files to Datature Nexus"
   ]
  },
  {
   "attachments": {},
   "cell_type": "markdown",
   "id": "9930a9b5",
   "metadata": {},
   "source": [
    "The steps are as follows:\n",
    "\n",
    "1. Sign up for a free Datature account at https://www.datature.io\n",
    "2. Create a new project on Nexus\n",
    "3. Go to the Integrations page\n",
    "4. Choose `Generate New Secret` to get your Secret Key\n",
    "5. Follow this script to use Datature SDK to upload the NIfTI files to Nexus\n",
    "\n",
    "---\n",
    "For NIfTI files, each file is uploaded as a separate 3D volume.\n",
    "    \n",
    "* If the axis of orientation is provided, the SDK will upload a series of 2D slices corresponding to the specified orientation.\\\n",
    "    Hence, you will only see one asset containing multiple slices on Nexus.   \n",
    "    \n",
    "\n",
    "* If the axis of orientation is not provided, the SDK will upload a series of 2D slices for each orientation (x, y, z). \\\n",
    "    Hence, you will see three sets of 2D slices (e.g. axial, coronal, sagittal) for each scan.\n",
    "---\n",
    "\n",
    "For more information about Datature's Python SDK, see https://developers.datature.io/docs/python-sdk."
   ]
  },
  {
   "attachments": {},
   "cell_type": "markdown",
   "id": "524134f8",
   "metadata": {},
   "source": [
    "# Install Datature Library"
   ]
  },
  {
   "cell_type": "code",
   "execution_count": 1,
   "id": "2f0405c2",
   "metadata": {},
   "outputs": [
    {
     "name": "stdout",
     "output_type": "stream",
     "text": [
      "Looking in indexes: https://pypi.org/simple, https://asia-python.pkg.dev/datature-puppeteer/python/simple/\n",
      "Requirement already satisfied: datature in /home/cwlroda/miniconda3/envs/resources/lib/python3.8/site-packages (2.0.0b1)\n",
      "Requirement already satisfied: requests>=2.28.1 in /home/cwlroda/miniconda3/envs/resources/lib/python3.8/site-packages (from datature) (2.28.1)\n",
      "Requirement already satisfied: google-crc32c==1.5.0 in /home/cwlroda/miniconda3/envs/resources/lib/python3.8/site-packages (from datature) (1.5.0)\n",
      "Requirement already satisfied: pyyaml>=6.0.0 in /home/cwlroda/miniconda3/envs/resources/lib/python3.8/site-packages (from datature) (6.0.1)\n",
      "Requirement already satisfied: inquirer>=2.10.1 in /home/cwlroda/miniconda3/envs/resources/lib/python3.8/site-packages (from datature) (3.1.4)\n",
      "Requirement already satisfied: halo==0.0.31 in /home/cwlroda/miniconda3/envs/resources/lib/python3.8/site-packages (from datature) (0.0.31)\n",
      "Requirement already satisfied: filetype==1.2.0 in /home/cwlroda/miniconda3/envs/resources/lib/python3.8/site-packages (from datature) (1.2.0)\n",
      "Requirement already satisfied: opencv-python==4.7.0.72 in /home/cwlroda/miniconda3/envs/resources/lib/python3.8/site-packages (from datature) (4.7.0.72)\n",
      "Requirement already satisfied: alive-progress==3.0.1 in /home/cwlroda/miniconda3/envs/resources/lib/python3.8/site-packages (from datature) (3.0.1)\n",
      "Requirement already satisfied: pydicom>=2.3.1 in /home/cwlroda/miniconda3/envs/resources/lib/python3.8/site-packages (from datature) (2.3.1)\n",
      "Requirement already satisfied: nibabel>=4.0.2 in /home/cwlroda/miniconda3/envs/resources/lib/python3.8/site-packages (from datature) (5.1.0)\n",
      "Requirement already satisfied: matplotlib>=3.5.3 in /home/cwlroda/miniconda3/envs/resources/lib/python3.8/site-packages (from datature) (3.7.4)\n",
      "Requirement already satisfied: numpy>=1.17.3 in /home/cwlroda/miniconda3/envs/resources/lib/python3.8/site-packages (from datature) (1.24.4)\n",
      "Requirement already satisfied: Pillow>=9.5.0 in /home/cwlroda/miniconda3/envs/resources/lib/python3.8/site-packages (from datature) (10.2.0)\n",
      "Requirement already satisfied: msgspec>=0.18.4 in /home/cwlroda/miniconda3/envs/resources/lib/python3.8/site-packages (from datature) (0.18.6)\n",
      "Requirement already satisfied: about-time==4.2.1 in /home/cwlroda/miniconda3/envs/resources/lib/python3.8/site-packages (from alive-progress==3.0.1->datature) (4.2.1)\n",
      "Requirement already satisfied: grapheme==0.6.0 in /home/cwlroda/miniconda3/envs/resources/lib/python3.8/site-packages (from alive-progress==3.0.1->datature) (0.6.0)\n",
      "Requirement already satisfied: log-symbols>=0.0.14 in /home/cwlroda/miniconda3/envs/resources/lib/python3.8/site-packages (from halo==0.0.31->datature) (0.0.14)\n",
      "Requirement already satisfied: spinners>=0.0.24 in /home/cwlroda/miniconda3/envs/resources/lib/python3.8/site-packages (from halo==0.0.31->datature) (0.0.24)\n",
      "Requirement already satisfied: termcolor>=1.1.0 in /home/cwlroda/miniconda3/envs/resources/lib/python3.8/site-packages (from halo==0.0.31->datature) (2.3.0)\n",
      "Requirement already satisfied: colorama>=0.3.9 in /home/cwlroda/miniconda3/envs/resources/lib/python3.8/site-packages (from halo==0.0.31->datature) (0.4.6)\n",
      "Requirement already satisfied: six>=1.12.0 in /home/cwlroda/.local/lib/python3.8/site-packages (from halo==0.0.31->datature) (1.16.0)\n",
      "Requirement already satisfied: blessed>=1.19.0 in /home/cwlroda/miniconda3/envs/resources/lib/python3.8/site-packages (from inquirer>=2.10.1->datature) (1.20.0)\n",
      "Requirement already satisfied: python-editor>=1.0.4 in /home/cwlroda/miniconda3/envs/resources/lib/python3.8/site-packages (from inquirer>=2.10.1->datature) (1.0.4)\n",
      "Requirement already satisfied: readchar>=3.0.6 in /home/cwlroda/miniconda3/envs/resources/lib/python3.8/site-packages (from inquirer>=2.10.1->datature) (4.0.5)\n",
      "Requirement already satisfied: contourpy>=1.0.1 in /home/cwlroda/.local/lib/python3.8/site-packages (from matplotlib>=3.5.3->datature) (1.0.7)\n",
      "Requirement already satisfied: cycler>=0.10 in /home/cwlroda/.local/lib/python3.8/site-packages (from matplotlib>=3.5.3->datature) (0.11.0)\n",
      "Requirement already satisfied: fonttools>=4.22.0 in /home/cwlroda/miniconda3/envs/resources/lib/python3.8/site-packages (from matplotlib>=3.5.3->datature) (4.45.1)\n",
      "Requirement already satisfied: kiwisolver>=1.0.1 in /home/cwlroda/miniconda3/envs/resources/lib/python3.8/site-packages (from matplotlib>=3.5.3->datature) (1.4.5)\n",
      "Requirement already satisfied: packaging>=20.0 in /home/cwlroda/.local/lib/python3.8/site-packages (from matplotlib>=3.5.3->datature) (23.2)\n",
      "Requirement already satisfied: pyparsing>=2.3.1 in /home/cwlroda/miniconda3/envs/resources/lib/python3.8/site-packages (from matplotlib>=3.5.3->datature) (3.1.1)\n",
      "Requirement already satisfied: python-dateutil>=2.7 in /home/cwlroda/.local/lib/python3.8/site-packages (from matplotlib>=3.5.3->datature) (2.8.2)\n",
      "Requirement already satisfied: importlib-resources>=3.2.0 in /home/cwlroda/miniconda3/envs/resources/lib/python3.8/site-packages (from matplotlib>=3.5.3->datature) (6.1.1)\n",
      "Requirement already satisfied: charset-normalizer<3,>=2 in /home/cwlroda/miniconda3/envs/resources/lib/python3.8/site-packages (from requests>=2.28.1->datature) (2.1.1)\n",
      "Requirement already satisfied: idna<4,>=2.5 in /home/cwlroda/miniconda3/envs/resources/lib/python3.8/site-packages (from requests>=2.28.1->datature) (3.4)\n",
      "Requirement already satisfied: urllib3<1.27,>=1.21.1 in /home/cwlroda/miniconda3/envs/resources/lib/python3.8/site-packages (from requests>=2.28.1->datature) (1.26.18)\n",
      "Requirement already satisfied: certifi>=2017.4.17 in /home/cwlroda/miniconda3/envs/resources/lib/python3.8/site-packages (from requests>=2.28.1->datature) (2023.11.17)\n",
      "Requirement already satisfied: wcwidth>=0.1.4 in /home/cwlroda/miniconda3/envs/resources/lib/python3.8/site-packages (from blessed>=1.19.0->inquirer>=2.10.1->datature) (0.2.5)\n",
      "Requirement already satisfied: zipp>=3.1.0 in /home/cwlroda/.local/lib/python3.8/site-packages (from importlib-resources>=3.2.0->matplotlib>=3.5.3->datature) (3.12.1)\n",
      "Requirement already satisfied: setuptools>=41.0 in /home/cwlroda/.local/lib/python3.8/site-packages (from readchar>=3.0.6->inquirer>=2.10.1->datature) (67.1.0)\n"
     ]
    }
   ],
   "source": [
    "! pip install --upgrade datature"
   ]
  },
  {
   "attachments": {},
   "cell_type": "markdown",
   "id": "368efe00",
   "metadata": {},
   "source": [
    "# Import Libraries"
   ]
  },
  {
   "cell_type": "code",
   "execution_count": 3,
   "id": "dd353963",
   "metadata": {},
   "outputs": [],
   "source": [
    "import os\n",
    "from datature.nexus import Client"
   ]
  },
  {
   "attachments": {},
   "cell_type": "markdown",
   "id": "1dff8b59",
   "metadata": {},
   "source": [
    "# Example: Uploading all NIFTI files in a folder"
   ]
  },
  {
   "attachments": {},
   "cell_type": "markdown",
   "id": "07230aaa",
   "metadata": {},
   "source": [
    "Put your NIfTI files into one folder.\n",
    "\n",
    "* The dataset we used in the tutorial for demonstration and educational purposes can be found here: https://decathlon-10.grand-challenge.org/, but feel free to use your own data.\n",
    "\n",
    "\n",
    "Create an upload session to upload or update assets.\n",
    "\n",
    "* The UploadSession class is designed with two methods, add and start, to support simple and quick batch upload. \n",
    "\n",
    "* The workflow order should be to first add your assets to the session, and once satisfied, use start to begin the upload process.\n",
    "\n",
    "* For the full documentation of UploadSession, see https://developers.datature.io/docs/asset-sdk-functions#uploadsession.\n",
    "\n",
    "For bulk asset upload, Nexus allows users to add up to 5000 assets in one single upload session. \n",
    "\n",
    "* If you are planning to upload more than 5000 assets, simply split them up into different batches. \n",
    "\n",
    "* Codes to do so are provided in Datature's Developers Documentation: https://developers.datature.io/docs/asset-sdk-functions#upload_session."
   ]
  },
  {
   "cell_type": "code",
   "execution_count": 8,
   "id": "b4b35626",
   "metadata": {},
   "outputs": [],
   "source": [
    "## Change this to your the path to your data folder containing the NIfTI files\n",
    "DATA_PATH = \"./data/\"\n",
    "\n",
    "## Change this to your project secret key on Nexus\n",
    "SECRET_KEY = \"<YOUR_SECRET_KEY>\"\n",
    "\n",
    "# Change this to your project ID on Nexus. This can be found via two methods:\n",
    "# 1. In the URL of the project page (https://nexus.datature.io/project/<YOUR_PROJECT_ID>)\n",
    "# 2. Project Key in the Integrations page\n",
    "PROJECT_ID = \"proj_<YOUR_PROJECT_ID>\""
   ]
  },
  {
   "cell_type": "code",
   "execution_count": 6,
   "id": "edf85d62",
   "metadata": {},
   "outputs": [],
   "source": [
    "# Initialize an upload session\n",
    "client = Client(SECRET_KEY)\n",
    "project = client.get_project(PROJECT_ID)\n",
    "upload_session = project.assets.create_upload_session()"
   ]
  },
  {
   "cell_type": "code",
   "execution_count": 9,
   "id": "933abd49",
   "metadata": {},
   "outputs": [
    {
     "name": "stdout",
     "output_type": "stream",
     "text": [
      "Upload Completed! 2 files uploaded to Nexus!\n"
     ]
    }
   ],
   "source": [
    "# Add files to the upload session\n",
    "files = os.listdir(DATA_PATH)\n",
    "num_files = 0\n",
    "\n",
    "with upload_session:\n",
    "    for file in files:\n",
    "        num_files += 1\n",
    "        # add file and specify orientation\n",
    "        # if no orientation is specified, 2D slices for each orientation will be uploaded\n",
    "        upload_session.add_path(f\"{os.path.join(DATA_PATH, file)}\", orientation=\"z\")\n",
    "upload_session.wait_until_done()\n",
    "print(f\"Upload Completed! {num_files} files uploaded to Nexus!\")"
   ]
  },
  {
   "cell_type": "code",
   "execution_count": 10,
   "id": "d240f29c",
   "metadata": {},
   "outputs": [
    {
     "data": {
      "text/plain": [
       "[AssetGroup(group='main', statistic=AssetGroupStatistic(total_assets=8, annotated_assets=1, reviewed_assets=0, to_fixed_assets=0, completed_assets=0))]"
      ]
     },
     "execution_count": 10,
     "metadata": {},
     "output_type": "execute_result"
    }
   ],
   "source": [
    "# See asset statistics of a specific asset group\n",
    "project.assets.list_groups([\"main\"])"
   ]
  }
 ],
 "metadata": {
  "kernelspec": {
   "display_name": "datature-edge",
   "language": "python",
   "name": "python3"
  },
  "language_info": {
   "codemirror_mode": {
    "name": "ipython",
    "version": 3
   },
   "file_extension": ".py",
   "mimetype": "text/x-python",
   "name": "python",
   "nbconvert_exporter": "python",
   "pygments_lexer": "ipython3",
   "version": "3.8.18"
  }
 },
 "nbformat": 4,
 "nbformat_minor": 5
}
