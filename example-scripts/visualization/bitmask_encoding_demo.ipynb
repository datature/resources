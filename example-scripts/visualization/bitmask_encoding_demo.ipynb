{
 "cells": [
  {
   "cell_type": "code",
   "execution_count": null,
   "metadata": {},
   "outputs": [],
   "source": [
    "#!/usr/env/bin python\n",
    "# -*-coding:utf-8 -*-\n",
    "\"\"\"\n",
    "  ████\n",
    "██    ██   Datature\n",
    "  ██  ██   Powering Breakthrough AI\n",
    "    ██\n",
    "\n",
    "@File    :   bitmask_encoding_demo.py\n",
    "@Author  :   Yong Jun Thong\n",
    "@Version :   1.0\n",
    "@Contact :   hello@datature.io\n",
    "@License :   Apache License 2.0\n",
    "@Desc    :   BitMask encoding using RLE and REE\n",
    "\"\"\""
   ]
  },
  {
   "cell_type": "markdown",
   "metadata": {},
   "source": [
    "## BitMask Encoding Demo\n",
    "\n",
    "This script demonstrates encoding a bitmask using Run Length Encoding (RLE) and Run End Encoding (REE) techniques. The various statistics and compression ratios are displayed in an interactive widget."
   ]
  },
  {
   "cell_type": "markdown",
   "metadata": {},
   "source": [
    "### Install Prerequisites"
   ]
  },
  {
   "cell_type": "code",
   "execution_count": null,
   "metadata": {},
   "outputs": [],
   "source": [
    "%pip install numpy==1.26.4\n",
    "%pip install Pillow==10.4.0\n",
    "%pip install ipywidgets\n",
    "%pip install ipython"
   ]
  },
  {
   "cell_type": "markdown",
   "metadata": {},
   "source": [
    "### Import Libraries"
   ]
  },
  {
   "cell_type": "code",
   "execution_count": 1,
   "metadata": {},
   "outputs": [],
   "source": [
    "import numpy as np\n",
    "from PIL import Image as PImage\n",
    "from ipywidgets import FileUpload, Output, Button, HBox\n",
    "from IPython.display import display, Image, HTML\n",
    "import io"
   ]
  },
  {
   "cell_type": "markdown",
   "metadata": {},
   "source": [
    "### BitMask Encoding Functions\n",
    "\n",
    "These functions are used to ingest the image data and encode it into a bitmask using a predefined encoding."
   ]
  },
  {
   "cell_type": "code",
   "execution_count": 2,
   "metadata": {},
   "outputs": [],
   "source": [
    "def ingest_image(data_or_path):\n",
    "    \"\"\"\n",
    "    Ingest an image and convert it to a binary array\n",
    "    \"\"\"\n",
    "    # Convert image data to PIL Image\n",
    "    if isinstance(data_or_path, (bytes, memoryview)):\n",
    "        # Convert memoryview to bytes if needed\n",
    "        img_data = data_or_path.tobytes() if isinstance(data_or_path, memoryview) else data_or_path\n",
    "        img = PImage.open(io.BytesIO(img_data))\n",
    "    elif isinstance(data_or_path, str):\n",
    "        img = PImage.open(data_or_path)\n",
    "    else:\n",
    "        img = data_or_path\n",
    "\n",
    "    # Convert to grayscale\n",
    "    if img.mode == '1':\n",
    "        img_gray = img\n",
    "    elif img.mode == 'RGBA' or img.mode == 'LA':\n",
    "        # Handle transparent images\n",
    "        img_gray = PImage.new(\"L\", img.size, 255)\n",
    "        img_gray.paste(img.convert(\"L\"), mask=img.split()[-1])\n",
    "    else:\n",
    "        img_gray = img.convert('L')\n",
    "\n",
    "    # Get dimensions\n",
    "    width, height = img_gray.size\n",
    "\n",
    "    # Convert to numpy array and apply thresholding\n",
    "    img_array = np.array(img_gray)\n",
    "    binary = (img_array < 128).astype(int)\n",
    "\n",
    "    # Flatten the array to 1D\n",
    "    return binary.flatten(), width, height\n",
    "\n",
    "def bit_to_index(iterable):\n",
    "    \"\"\"\n",
    "    Convert a list of bits to a list of indices\n",
    "    \"\"\"\n",
    "    class Iter:\n",
    "        def __iter__(self):\n",
    "            index = 0\n",
    "            curr = 0\n",
    "            for b in iterable:\n",
    "                if b != curr:\n",
    "                    yield index\n",
    "                    curr = b\n",
    "                index += 1\n",
    "            yield index\n",
    "    return Iter()\n",
    "\n",
    "def write_bit(arr):\n",
    "    \"\"\"\n",
    "    Write bits to a bytearray\n",
    "    \"\"\"\n",
    "    index = 0\n",
    "    position = 0\n",
    "\n",
    "    def writer(v):\n",
    "        nonlocal index, position\n",
    "        if index >= len(arr):\n",
    "            arr.append(0)\n",
    "        mask = 1 << position\n",
    "        arr[index] += mask * v\n",
    "        position += 1\n",
    "        if position >= 8:\n",
    "            index += 1\n",
    "            position = 0\n",
    "\n",
    "    return writer\n",
    "\n",
    "def encode_bitmask(iterable, max_index):\n",
    "    \"\"\"\n",
    "    Encode a bitmask using a binary tree REE\n",
    "    \"\"\"\n",
    "    n = max_index + 1\n",
    "    input = iter(iterable)\n",
    "    output = bytearray()\n",
    "    writer = write_bit(output)\n",
    "\n",
    "    depth = (n - 1).bit_length()\n",
    "    stack = []\n",
    "    stack.append(depth)\n",
    "\n",
    "    curr_index = 0\n",
    "    next_value = next(input, None)\n",
    "\n",
    "    while stack:\n",
    "        if curr_index >= n or next_value is None:\n",
    "            break\n",
    "\n",
    "        level = stack.pop()\n",
    "        leaf_count = 1 << level\n",
    "\n",
    "        if level == 0:\n",
    "            if next_value == curr_index:\n",
    "                writer(1)\n",
    "                next_value = next(input, None)\n",
    "            else:\n",
    "                writer(0)\n",
    "            curr_index += 1\n",
    "        elif curr_index + leaf_count > next_value:\n",
    "            writer(1)\n",
    "            stack.extend([level - 1, level - 1])\n",
    "        else:\n",
    "            writer(0)\n",
    "            curr_index += leaf_count\n",
    "\n",
    "    return bytes(output)\n",
    "\n",
    "def get_stat(width, height, bits, indices):\n",
    "    \"\"\"\n",
    "    Get statistics of the bitmask encoding\n",
    "    \"\"\"\n",
    "    run_lengths = np.array(indices + [len(bits)]) - np.array([0] + indices)\n",
    "    btree_encoded = encode_bitmask(indices, len(bits) - 1)\n",
    "    varint_encoded_size = sum(1 if length < 64 else 2 if length < 64 * 256 else 3 for length in run_lengths)\n",
    "\n",
    "    return {\n",
    "        \"width\": width,\n",
    "        \"height\": height,\n",
    "        \"total_pixels\": len(bits),\n",
    "        \"black_pixels\": bits.sum(),\n",
    "        \"white_pixels\": len(bits) - bits.sum(),\n",
    "        \"black_ratio\": bits.sum() / len(bits),\n",
    "        \"runs\": len(run_lengths),\n",
    "        \"run_to_pixel_ratio\": len(run_lengths) / len(bits),\n",
    "        \"max_run_length\": max(run_lengths),\n",
    "        \"avg_run_length\": sum(run_lengths) / len(run_lengths),\n",
    "        \"btree_encoded_size_ree\": len(btree_encoded),\n",
    "        \"varint_encoded_size_rle\": varint_encoded_size,\n",
    "        \"ree_bytes_per_run\": len(btree_encoded) / len(run_lengths),\n",
    "        \"rle_bytes_per_run\": varint_encoded_size / len(run_lengths),\n",
    "    }\n",
    "\n",
    "def format_stat(stat, HTML):\n",
    "    \"\"\"Format the statistics as an HTML table\"\"\"\n",
    "    formatted = {}\n",
    "    for key, value in stat.items():\n",
    "        if isinstance(value, (float, np.floating)):\n",
    "            if value >= 1000:\n",
    "                formatted[key] = f\"{value:,.3f}\"  # Add commas for thousands\n",
    "            else:\n",
    "                formatted[key] = f\"{value:.3f}\"  # Don't add commas for small decimals\n",
    "        elif isinstance(value, (int, np.integer)):\n",
    "            formatted[key] = f\"{int(value):,}\"  # Convert numpy int to Python int and add commas\n",
    "        else:\n",
    "            formatted[key] = str(value)\n",
    "\n",
    "    # Convert to HTML table for better presentation\n",
    "    html = \"<table style='width:30%; border-collapse:collapse;'>\"\n",
    "    html += \"<style>td,th{padding:8px; border-bottom:1px solid #ddd;}</style>\"\n",
    "    for key, value in formatted.items():\n",
    "        pretty_key = \" \".join(word.capitalize() for word in key.split('_'))\n",
    "        pretty_key = pretty_key.replace(\"Rle\", \"RLE\").replace(\"Ree\", \"REE\")\n",
    "        html += f\"<tr><td><b>{pretty_key}</b></td><td>{value}</td></tr>\"\n",
    "    html += \"</table>\"\n",
    "    return HTML(html)"
   ]
  },
  {
   "cell_type": "markdown",
   "metadata": {},
   "source": [
    "### Bitmask Rendering\n",
    "\n",
    "This snippet is used to render the bitmask and various encoding statistics."
   ]
  },
  {
   "cell_type": "code",
   "execution_count": null,
   "metadata": {
    "scrolled": true
   },
   "outputs": [
    {
     "data": {
      "application/vnd.jupyter.widget-view+json": {
       "model_id": "2858060aff984558bd64302a268837b9",
       "version_major": 2,
       "version_minor": 0
      },
      "text/plain": [
       "HBox(children=(FileUpload(value=(), accept='image/*', description='Upload'), Button(description='Use Sample Im…"
      ]
     },
     "metadata": {},
     "output_type": "display_data"
    },
    {
     "data": {
      "application/vnd.jupyter.widget-view+json": {
       "model_id": "ceedc5742a7a4ff985c9f84aa280110d",
       "version_major": 2,
       "version_minor": 0
      },
      "text/plain": [
       "Output()"
      ]
     },
     "metadata": {},
     "output_type": "display_data"
    }
   ],
   "source": [
    "# Create widgets\n",
    "upload_widget = FileUpload(accept='image/*', multiple=False)\n",
    "sample_button = Button(description='Use Sample Image')\n",
    "output_widget = Output()\n",
    "\n",
    "\n",
    "# Display handler for uploaded image\n",
    "def on_upload_change(e):\n",
    "    \"\"\"\n",
    "    Handle image upload and display\n",
    "    \"\"\"\n",
    "    with output_widget:\n",
    "        output_widget.clear_output()\n",
    "        if upload_widget.value:\n",
    "            if len(upload_widget.value) > 0:\n",
    "                first_file = upload_widget.value[0]\n",
    "                img_data = first_file['content']\n",
    "                display(Image(data=img_data, height=300))\n",
    "\n",
    "                # Convert image to bits and process\n",
    "                bits, width, height = ingest_image(img_data)\n",
    "                indices = list(bit_to_index(bits))\n",
    "                display(format_stat(get_stat(width, height, bits, indices), HTML))\n",
    "\n",
    "def on_sample_button_click(e):\n",
    "    \"\"\"\n",
    "    Handle sample image button click\n",
    "    \"\"\"\n",
    "    with output_widget:\n",
    "        output_widget.clear_output()\n",
    "        display(PImage.open('assets/bitmask_sample.png').convert(\"L\"))\n",
    "\n",
    "        # Convert image to bits and process\n",
    "        bits, width, height = ingest_image('assets/bitmask_sample.png')\n",
    "        indices = list(bit_to_index(bits))\n",
    "        display(format_stat(get_stat(width, height, bits, indices), HTML))\n",
    "\n",
    "# Connect the handlers\n",
    "upload_widget.observe(on_upload_change, names='value')\n",
    "sample_button.on_click(on_sample_button_click)\n",
    "\n",
    "# Display widgets in a horizontal layout\n",
    "display(HBox([upload_widget, sample_button]), output_widget)"
   ]
  }
 ],
 "metadata": {
  "kernelspec": {
   "display_name": "resources",
   "language": "python",
   "name": "python3"
  },
  "language_info": {
   "codemirror_mode": {
    "name": "ipython",
    "version": 3
   },
   "file_extension": ".py",
   "mimetype": "text/x-python",
   "name": "python",
   "nbconvert_exporter": "python",
   "pygments_lexer": "ipython3",
   "version": "3.12.3"
  }
 },
 "nbformat": 4,
 "nbformat_minor": 4
}
