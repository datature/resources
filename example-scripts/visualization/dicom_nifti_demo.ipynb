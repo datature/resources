{
 "cells": [
  {
   "cell_type": "code",
   "execution_count": 9,
   "metadata": {},
   "outputs": [
    {
     "data": {
      "text/plain": [
       "'\\n  ████\\n██    ██   Datature\\n  ██  ██   Powering Breakthrough AI\\n    ██\\n\\n@File    :   dicom_nifti_demo.ipynb\\n@Author  :   Koh Quan Wei Ivan\\n@Version :   1.0\\n@Contact :   hello@datature.io\\n@License :   Apache License 2.0\\n@Desc    :   <Description>\\n'"
      ]
     },
     "execution_count": 9,
     "metadata": {},
     "output_type": "execute_result"
    }
   ],
   "source": [
    "#!/usr/bin/env python\n",
    "# -*-coding:utf-8 -*-\n",
    "'''\n",
    "  ████\n",
    "██    ██   Datature\n",
    "  ██  ██   Powering Breakthrough AI\n",
    "    ██\n",
    "\n",
    "@File    :   dicom_nifti_demo.ipynb\n",
    "@Author  :   Koh Quan Wei Ivan\n",
    "@Version :   1.0\n",
    "@Contact :   hello@datature.io\n",
    "@License :   Apache License 2.0\n",
    "@Desc    :   Demo for visualizing and uploading DICOM and NIFTI files using Datature Python SDK.\n",
    "'''\n"
   ]
  },
  {
   "cell_type": "markdown",
   "metadata": {},
   "source": [
    "# Install required libraries"
   ]
  },
  {
   "cell_type": "code",
   "execution_count": null,
   "metadata": {},
   "outputs": [],
   "source": [
    "! pip install --upgrade datature"
   ]
  },
  {
   "attachments": {},
   "cell_type": "markdown",
   "metadata": {},
   "source": [
    "# Import Libraries"
   ]
  },
  {
   "cell_type": "code",
   "execution_count": 1,
   "metadata": {},
   "outputs": [],
   "source": [
    "import os\n",
    "import datature\n",
    "import time \n",
    "import ipywidgets as widgets\n",
    "import pydicom\n",
    "import numpy as np\n",
    "import matplotlib.pyplot as plt\n",
    "%matplotlib inline\n",
    "import nibabel as nib\n",
    "import dicom2nifti\n",
    "from vedo import Volume, settings\n",
    "from vedo.applications import Slicer3DPlotter\n",
    "settings.default_backend = 'ipyvtklink'"
   ]
  },
  {
   "attachments": {},
   "cell_type": "markdown",
   "metadata": {},
   "source": [
    "# Importing DICOM or NIFTI files\n",
    "\n",
    "Nexus currently has support for the following single file uploads\n",
    "\n",
    "This means that the following cases will work without any need for modification:\n",
    "1. Single NIFTI files containing slices of a single volume\n",
    "2. Single DICOM files containing slices \n",
    "\n",
    "The following cases will require some modification to the code:\n",
    "\n",
    "3. Multiple DICOM files in a directory representing a single volume"
   ]
  },
  {
   "attachments": {},
   "cell_type": "markdown",
   "metadata": {},
   "source": [
    "## Data Paths"
   ]
  },
  {
   "cell_type": "code",
   "execution_count": 2,
   "metadata": {},
   "outputs": [],
   "source": [
    "# change to your own data \n",
    "nifti_file_path = \"data/BRAINIX_NIFTI_Output_3D_File.nii\"\n",
    "dicom_file_path = \"data/0009.DCM\"\n",
    "dicom_folder_path = \"data/T2\""
   ]
  },
  {
   "attachments": {},
   "cell_type": "markdown",
   "metadata": {},
   "source": [
    "## 1. Import a NIFTI file representing a volume"
   ]
  },
  {
   "cell_type": "code",
   "execution_count": 3,
   "metadata": {},
   "outputs": [
    {
     "name": "stdout",
     "output_type": "stream",
     "text": [
      "(512, 512, 22)\n"
     ]
    }
   ],
   "source": [
    "loaded_nifti = nib.load(nifti_file_path)\n",
    "nifti_array = loaded_nifti.get_fdata()\n",
    "print(nifti_array.shape)\n"
   ]
  },
  {
   "cell_type": "code",
   "execution_count": 4,
   "metadata": {},
   "outputs": [
    {
     "name": "stdout",
     "output_type": "stream",
     "text": [
      "Slice thickness:  5.0\n",
      "Pixel spacing:  [0.46875 0.46875]\n"
     ]
    }
   ],
   "source": [
    "# get pixel spacing and slice thickness\n",
    "slice_thickness = loaded_nifti.header[\"pixdim\"][3]\n",
    "# index 1 and 2 are the pixel spacing in x and y directions\n",
    "pixel_spacing = loaded_nifti.header[\"pixdim\"][1:3]\n",
    "print(\"Slice thickness: \", slice_thickness)\n",
    "print(\"Pixel spacing: \", pixel_spacing)\n"
   ]
  },
  {
   "cell_type": "code",
   "execution_count": 5,
   "metadata": {},
   "outputs": [
    {
     "name": "stdout",
     "output_type": "stream",
     "text": [
      "Number of slices:  22\n",
      "Number of columns:  22\n",
      "Number of rows:  512\n",
      "(512, 512, 22)\n"
     ]
    }
   ],
   "source": [
    "nifti_array.shape\n",
    "img3d = nifti_array\n",
    "\n",
    "num_slices = img3d.shape[2]\n",
    "num_cols = img3d[0].shape[1]\n",
    "num_rows = img3d[0].shape[0]\n",
    "\n",
    "print(\"Number of slices: \", num_slices)\n",
    "print(\"Number of columns: \", num_cols)\n",
    "print(\"Number of rows: \", num_rows)\n",
    "\n",
    "print(nifti_array.shape)"
   ]
  },
  {
   "attachments": {},
   "cell_type": "markdown",
   "metadata": {},
   "source": [
    "### NIFTI: Interactive slicer through the axial, sagittal and coronal planes"
   ]
  },
  {
   "cell_type": "code",
   "execution_count": 6,
   "metadata": {},
   "outputs": [
    {
     "data": {
      "application/vnd.jupyter.widget-view+json": {
       "model_id": "b0b13b1bfea9472b957b152eae9e4d81",
       "version_major": 2,
       "version_minor": 0
      },
      "text/plain": [
       "interactive(children=(IntSlider(value=10, description='axial_slice', max=21), IntSlider(value=255, description…"
      ]
     },
     "metadata": {},
     "output_type": "display_data"
    }
   ],
   "source": [
    "axial_aspect = pixel_spacing[1] / pixel_spacing[0]  # y/x elongation of pixels in the y direction relative to the x direction\n",
    "sagittal_aspect = pixel_spacing[1] / slice_thickness  # y/z\n",
    "coronal_aspect = slice_thickness / pixel_spacing[0]  # z/x\n",
    "\n",
    "img3d = nifti_array \n",
    "\n",
    "num_slices = img3d.shape[2]\n",
    "num_cols = img3d[0].shape[1]\n",
    "num_rows = img3d[0].shape[0]\n",
    "\n",
    "x,y,z = img3d.shape\n",
    "\n",
    "@widgets.interact(\n",
    "    axial_slice=(0, z - 1),\n",
    "    coronal_slice=(0, y - 1),\n",
    "    sagittal_slice=(0, x - 1),\n",
    ")\n",
    "def slicer(axial_slice, coronal_slice, sagittal_slice):\n",
    "    fig, ax = plt.subplots(1, 3, figsize=(15, 5))\n",
    "\n",
    "    ax[0].imshow(img3d[:, :, axial_slice])\n",
    "    ax[0].set_title(\"Axial Slice\")\n",
    "    ax[0].axis(\"off\")\n",
    "    ax[0].set_aspect(axial_aspect)\n",
    "\n",
    "    ax[1].imshow(img3d[:, coronal_slice, :].T)\n",
    "    ax[1].set_title(\"Coronal Slice\")\n",
    "    ax[1].axis(\"off\")\n",
    "    ax[1].set_aspect(coronal_aspect)\n",
    "\n",
    "    ax[2].imshow(img3d[sagittal_slice, :, :])\n",
    "    ax[2].set_title(\"Sagittal Slice\")\n",
    "    ax[2].axis(\"off\")\n",
    "    ax[2].set_aspect(sagittal_aspect)"
   ]
  },
  {
   "attachments": {},
   "cell_type": "markdown",
   "metadata": {},
   "source": [
    "### NIFTI: Preview the volume in 3D"
   ]
  },
  {
   "cell_type": "code",
   "execution_count": 13,
   "metadata": {},
   "outputs": [
    {
     "data": {
      "text/html": [
       "<table>\n",
       "<tr>\n",
       "<td>\n",
       "<img src='data:image/png;base64,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'></img>\n",
       "</td>\n",
       "<td style='text-align: center; vertical-align: center;'><br/>\n",
       "<b><a href=\"https://vedo.embl.es/docs/vedo/volume.html\" target=\"_blank\">vedo.volume.Volume</a></b>\n",
       "<table>\n",
       "<tr><td><b> bounds </b> <br/> (x/y/z) </td><td>0 ... 239.5<br/>0 ... 239.5<br/>0 ... 105.0</td></tr>\n",
       "<tr><td><b> dimensions </b></td><td>(512, 512, 22)</td></tr>\n",
       "<tr><td><b> voxel spacing </b></td><td>(0.469, 0.469, 5.00)</td></tr>\n",
       "<tr><td><b> in memory size </b></td><td>44MB</td></tr>\n",
       "<tr><td><b> point data array </b></td><td>input_scalars</td></tr>\n",
       "\n",
       "<tr><td><b> scalar range </b></td><td>(0, 1884)</td></tr>\n",
       "</table>\n",
       "</table>"
      ],
      "text/plain": [
       "(Volume)0x29d085a00"
      ]
     },
     "execution_count": 13,
     "metadata": {},
     "output_type": "execute_result"
    }
   ],
   "source": [
    "nifti_vol = Volume(nifti_array, spacing=[pixel_spacing[0], pixel_spacing[1], slice_thickness])\n",
    "nifti_vol"
   ]
  },
  {
   "attachments": {},
   "cell_type": "markdown",
   "metadata": {},
   "source": [
    "### NIFTI: Interactive slicer through volume"
   ]
  },
  {
   "cell_type": "code",
   "execution_count": 14,
   "metadata": {},
   "outputs": [],
   "source": [
    "nifti_vol = Volume(nifti_array, spacing=[pixel_spacing[0], pixel_spacing[1], slice_thickness])\n",
    "# create a slicer for the nifti file for all 3 planes: axial, coronal, sagittal\n",
    "plotter = Slicer3DPlotter(nifti_vol, bg='blackboard', bg2='lightblue')\n",
    "plotter.show()\n",
    "plotter.close()"
   ]
  },
  {
   "attachments": {},
   "cell_type": "markdown",
   "metadata": {},
   "source": [
    "## 2. Import a DICOM file representing slices"
   ]
  },
  {
   "cell_type": "code",
   "execution_count": 7,
   "metadata": {},
   "outputs": [
    {
     "name": "stdout",
     "output_type": "stream",
     "text": [
      "(137, 512, 512)\n"
     ]
    }
   ],
   "source": [
    "dicom_file = pydicom.dcmread(dicom_file_path)\n",
    "dicom_array = dicom_file.pixel_array\n",
    "print(dicom_array.shape)"
   ]
  },
  {
   "attachments": {},
   "cell_type": "markdown",
   "metadata": {},
   "source": [
    "### DICOM: Interactive slicer"
   ]
  },
  {
   "cell_type": "code",
   "execution_count": 8,
   "metadata": {},
   "outputs": [
    {
     "data": {
      "application/vnd.jupyter.widget-view+json": {
       "model_id": "842c069424174b72a8694f6f7c6dbaba",
       "version_major": 2,
       "version_minor": 0
      },
      "text/plain": [
       "interactive(children=(IntSlider(value=68, description='slice', max=136), Output()), _dom_classes=('widget-inte…"
      ]
     },
     "metadata": {},
     "output_type": "display_data"
    }
   ],
   "source": [
    "# interactive slicer for dicom file\n",
    "num_slices = dicom_array.shape[0]\n",
    "\n",
    "\n",
    "@widgets.interact(slice=(0, num_slices - 1))\n",
    "def dicom_slicer(slice):\n",
    "    plt.imshow(dicom_array[slice], cmap=plt.cm.bone)\n",
    "    plt.axis(\"off\")\n",
    "    plt.show()\n"
   ]
  },
  {
   "attachments": {},
   "cell_type": "markdown",
   "metadata": {},
   "source": [
    "## 3. Import multiple DICOM files representing a volume"
   ]
  },
  {
   "cell_type": "code",
   "execution_count": 19,
   "metadata": {},
   "outputs": [],
   "source": [
    "dicom_files = os.listdir(dicom_folder_path)\n",
    "# remove non-dicom files\n",
    "dicom_files = [file for file in dicom_files if file.endswith(\".dcm\")]\n",
    "dicom_files = [os.path.join(dicom_folder_path, file) for file in dicom_files]\n",
    "# sort by slice location, if available else sort by filename\n",
    "dicom_files.sort(\n",
    "    key=lambda x: pydicom.dcmread(x, force=True).SliceLocation\n",
    "    if hasattr(pydicom.dcmread(x, force=True), \"SliceLocation\")\n",
    "    else x\n",
    ")\n"
   ]
  },
  {
   "attachments": {},
   "cell_type": "markdown",
   "metadata": {},
   "source": [
    "### Multiple DICOM files: Interactive slicer through the axial, sagittal and coronal planes"
   ]
  },
  {
   "cell_type": "code",
   "execution_count": 25,
   "metadata": {},
   "outputs": [
    {
     "data": {
      "application/vnd.jupyter.widget-view+json": {
       "model_id": "d7e376710f864f369c50a0d826d08ac8",
       "version_major": 2,
       "version_minor": 0
      },
      "text/plain": [
       "interactive(children=(IntSlider(value=10, description='axial_slice', max=21), IntSlider(value=255, description…"
      ]
     },
     "metadata": {},
     "output_type": "display_data"
    }
   ],
   "source": [
    "# assume files in directory are all from the same series and sorted\n",
    "slices = [pydicom.dcmread(f) for f in dicom_files]\n",
    "\n",
    "# number of slices\n",
    "num_slices = len(slices)\n",
    "# number of rows in each slice\n",
    "num_rows = slices[0].pixel_array.shape[0]\n",
    "# number of columns in each slice\n",
    "num_cols = slices[0].pixel_array.shape[1]\n",
    "\n",
    "# pixel aspects, assuming all slices are the same\n",
    "\n",
    "# if pixel size not available in dicom file, assume an isotropic voxel size of 1\n",
    "if hasattr(slices[0], \"PixelSpacing\") and hasattr(slices[0], \"SliceThickness\"):\n",
    "    ps = slices[0].PixelSpacing\n",
    "    ss = slices[0].SliceThickness\n",
    "else:\n",
    "    ps = [1, 1]\n",
    "    ss = 1\n",
    "\n",
    "# ps = slices[0].PixelSpacing\n",
    "# ss = slices[0].SliceThickness\n",
    "axial_aspect = ps[1] / ps[0]  # y/x\n",
    "sagittal_aspect = ps[1] / ss  # y/z\n",
    "coronal_aspect = ss / ps[0]  # z/x\n",
    "\n",
    "# create 3D array\n",
    "img_shape = list(slices[0].pixel_array.shape)\n",
    "img_shape.append(len(slices))\n",
    "img3d = np.zeros(img_shape)\n",
    "\n",
    "# fill 3D array with the images from the files\n",
    "for i, s in enumerate(slices):\n",
    "    img2d = s.pixel_array\n",
    "    img3d[:, :, i] = img2d\n",
    "\n",
    "\n",
    "@widgets.interact(\n",
    "    axial_slice=(0, num_slices - 1),\n",
    "    coronal_slice=(0, num_cols - 1),\n",
    "    sagittal_slice=(0, num_rows - 1),\n",
    ")\n",
    "def slicer(axial_slice, coronal_slice, sagittal_slice):\n",
    "    fig, ax = plt.subplots(1, 3, figsize=(15, 5))\n",
    "\n",
    "    ax[0].imshow(img3d[:, :, axial_slice])\n",
    "    ax[0].set_title(\"Axial Slice\")\n",
    "    ax[0].axis(\"off\")\n",
    "    ax[0].set_aspect(axial_aspect)\n",
    "\n",
    "    ax[1].imshow(img3d[coronal_slice, :, :].T)\n",
    "    ax[1].set_title(\"Coronal Slice\")\n",
    "    ax[1].axis(\"off\")\n",
    "    ax[1].set_aspect(coronal_aspect)\n",
    "\n",
    "    ax[2].imshow(img3d[:, sagittal_slice, :])\n",
    "    ax[2].set_title(\"Sagittal Slice\")\n",
    "    ax[2].axis(\"off\")\n",
    "    ax[2].set_aspect(sagittal_aspect)\n"
   ]
  },
  {
   "attachments": {},
   "cell_type": "markdown",
   "metadata": {},
   "source": [
    "### Multiple DICOM files: Preview volume "
   ]
  },
  {
   "cell_type": "code",
   "execution_count": 21,
   "metadata": {},
   "outputs": [
    {
     "data": {
      "text/html": [
       "<table>\n",
       "<tr>\n",
       "<td>\n",
       "<img src='data:image/png;base64,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'></img>\n",
       "</td>\n",
       "<td style='text-align: center; vertical-align: center;'><br/>\n",
       "<b><a href=\"https://vedo.embl.es/docs/vedo/volume.html\" target=\"_blank\">vedo.volume.Volume</a></b>\n",
       "<table>\n",
       "<tr><td><b> bounds </b> <br/> (x/y/z) </td><td>0 ... 229.6<br/>0 ... 229.6<br/>0 ... 105.0</td></tr>\n",
       "<tr><td><b> dimensions </b></td><td>(512, 512, 22)</td></tr>\n",
       "<tr><td><b> voxel spacing </b></td><td>(0.449, 0.449, 5.00)</td></tr>\n",
       "<tr><td><b> in memory size </b></td><td>44MB</td></tr>\n",
       "<tr><td><b> point data array </b></td><td>input_scalars</td></tr>\n",
       "\n",
       "<tr><td><b> scalar range </b></td><td>(0, 939.0)</td></tr>\n",
       "</table>\n",
       "</table>"
      ],
      "text/plain": [
       "(Volume)0x2a5e542e0"
      ]
     },
     "execution_count": 21,
     "metadata": {},
     "output_type": "execute_result"
    }
   ],
   "source": [
    "vol = Volume(img3d)\n",
    "vol = Volume(img3d, spacing=[ps[0], ps[1], ss])\n",
    "vol"
   ]
  },
  {
   "attachments": {},
   "cell_type": "markdown",
   "metadata": {},
   "source": [
    "### Multiple DICOM files: Interactive slicer through the volume\n",
    "\n",
    "This opens an interactive window separate from the notebook. Close the window to continue the notebook."
   ]
  },
  {
   "cell_type": "code",
   "execution_count": 99,
   "metadata": {
    "notebookRunGroups": {
     "groupValue": "1"
    }
   },
   "outputs": [],
   "source": [
    "vol = Volume(img3d, spacing=[ps[0], ps[1], ss])\n",
    "\n",
    "plotter = Slicer3DPlotter(\n",
    "    vol,\n",
    "    bg=\"black\",\n",
    "    bg2=\"black\",\n",
    "    show_histo=False,\n",
    ")\n",
    "\n",
    "plotter.close()"
   ]
  },
  {
   "attachments": {},
   "cell_type": "markdown",
   "metadata": {},
   "source": [
    "### Example: Combine DICOM files into a single NIFTI file\n",
    "\n",
    "Multiple DICOM files in a directory can be converted in to NIFTI volume, then uploaded to Nexus\n",
    "\n",
    "This is because Nexus currently does not support the upload to DICOM directories."
   ]
  },
  {
   "cell_type": "code",
   "execution_count": 7,
   "metadata": {},
   "outputs": [],
   "source": [
    "# combine DICOM files into a single NIFTI\n",
    "\n",
    "output_folder_path = \"/Users/ivankoh/Downloads\"\n",
    "dicom2nifti.convert_directory(dicom_folder_path, output_folder_path, compression=True, reorient=True)"
   ]
  },
  {
   "attachments": {},
   "cell_type": "markdown",
   "metadata": {},
   "source": [
    "# Upload DICOM/NIFTI files to Datature Nexus\n",
    "\n",
    "The steps are as follows:\n",
    "1. Create a new project on Nexus and retrieve the [secret key](https://developers.datature.io/docs/hub-and-api) in the `Integrations` page.\n",
    "2. Use Datature SDK to upload the DICOM/NIFTI files to Datature Nexus\n",
    "\n",
    "For NIFTI files, each file is uploaded as a separate 3D volume.\n",
    "- If the axis of orientation is provided, the SDK will upload a series of 2D slices corresponding to the specified orientation. You will only see one asset containing multiple slices on Nexus.\n",
    "- If the axis of orientation is not provided, the SDK will upload a series of 2D slices for each orientation (x, y, z). This means that you will see three separate assets on Nexus.\n",
    "\n",
    "For DICOM files, only single file uploads are supported. \n",
    "- Each single DICOM file can either represent a single image or a series of 2D slices of a 3D volume.\n",
    "- This means that if you have a 3D volume from multiple stacked DICOM files, you can either:\n",
    "    - Convert it to a NIFTI file for upload, or \n",
    "    - Upload DICOM files consisting of 2D series for each orientation separately."
   ]
  },
  {
   "attachments": {},
   "cell_type": "markdown",
   "metadata": {},
   "source": [
    "## Example: Initialize an upload session to upload a NIFTI file (no orientation specified)"
   ]
  },
  {
   "cell_type": "code",
   "execution_count": null,
   "metadata": {},
   "outputs": [],
   "source": [
    "datature.secret_key = \"YOUR_SECRET_KEY\"\n",
    "single_nifti_file_path = nifti_file_path\n",
    "\n",
    "upload_session = datature.Asset.upload_session()\n",
    "\n",
    "# upload the single NIFTI file containing a 3D volume\n",
    "upload_session.add(\n",
    "    single_nifti_file_path\n",
    ")  # this will upload axial, coronal, sagittal planes separately\n",
    "\n",
    "# start the upload session\n",
    "upload_session.start([\"main\"], background=True)\n"
   ]
  },
  {
   "cell_type": "code",
   "execution_count": null,
   "metadata": {},
   "outputs": [],
   "source": [
    "# check the status of the upload\n",
    "num_files = 3\n",
    "while datature.Operation.retrieve(\n",
    "        op_link)[\"status\"][\"progress\"][\"with_status\"][\"finished\"] != num_files:\n",
    "    time.sleep(1)\n",
    "print(f\"Uploaded '{nifti_file_path}' to Nexus!\")"
   ]
  },
  {
   "attachments": {},
   "cell_type": "markdown",
   "metadata": {},
   "source": [
    "## Example: Initialize upload session to upload a NIFTI file (with specified orientation)"
   ]
  },
  {
   "cell_type": "code",
   "execution_count": null,
   "metadata": {},
   "outputs": [],
   "source": [
    "single_nifti_file_path = nifti_file_path\n",
    "\n",
    "upload_session = datature.Asset.upload_session()\n",
    "\n",
    "# upload the single NIFTI file containing a 3D volume\n",
    "upload_session.add(single_nifti_file_path, orientation=\"x\")  # x orientation\n",
    "\n",
    "# start the upload session in the background\n",
    "# and retrieve the operation link for status checks\n",
    "op_link = upload_session.start(['main'], background=True)[\"op_link\"]\n"
   ]
  },
  {
   "cell_type": "code",
   "execution_count": null,
   "metadata": {},
   "outputs": [],
   "source": [
    "# check the status of the upload\n",
    "num_files = 1\n",
    "while datature.Operation.retrieve(\n",
    "        op_link)[\"status\"][\"progress\"][\"with_status\"][\"finished\"] != num_files:\n",
    "    time.sleep(1)\n",
    "print(f\"Uploaded '{single_nifti_file_path}' to Nexus!\")"
   ]
  },
  {
   "attachments": {},
   "cell_type": "markdown",
   "metadata": {},
   "source": [
    "## Example: Initialize an upload session to upload a DICOM file"
   ]
  },
  {
   "cell_type": "code",
   "execution_count": null,
   "metadata": {},
   "outputs": [],
   "source": [
    "single_dicom_file_path = dicom_file_path\n",
    "\n",
    "upload_session = datature.Asset.upload_session()\n",
    "\n",
    "# upload the single DICOM file containing a series of slices \n",
    "upload_session.add(dicom_file_path)\n",
    "\n",
    "# start the upload session in the background\n",
    "# and retrieve the operation link for status checks\n",
    "op_link = upload_session.start(['main'], background=True)[\"op_link\"]"
   ]
  },
  {
   "cell_type": "code",
   "execution_count": null,
   "metadata": {},
   "outputs": [],
   "source": [
    "# check the status of the upload\n",
    "num_files = 1\n",
    "while datature.Operation.retrieve(\n",
    "        op_link)[\"status\"][\"progress\"][\"with_status\"][\"finished\"] != num_files:\n",
    "    time.sleep(1)\n",
    "print(f\"Uploaded '{single_dicom_file_path}' to Nexus!\")"
   ]
  }
 ],
 "metadata": {
  "kernelspec": {
   "display_name": "dicom-nifti-demo",
   "language": "python",
   "name": "python3"
  },
  "language_info": {
   "codemirror_mode": {
    "name": "ipython",
    "version": 3
   },
   "file_extension": ".py",
   "mimetype": "text/x-python",
   "name": "python",
   "nbconvert_exporter": "python",
   "pygments_lexer": "ipython3",
   "version": "3.8.16"
  },
  "orig_nbformat": 4
 },
 "nbformat": 4,
 "nbformat_minor": 2
}
