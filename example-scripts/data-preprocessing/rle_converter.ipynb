{
 "cells": [
  {
   "cell_type": "code",
   "execution_count": 2,
   "metadata": {},
   "outputs": [
    {
     "data": {
      "text/plain": [
       "'\\n  ████\\n██    ██   Datature\\n  ██  ██   Powering Breakthrough AI\\n    ██\\n \\n@File    :   rle_converter.ipynb\\n@Author  :   Leonard So\\n@Version :   1.0\\n@Contact :   hello@datature.io\\n@License :   Apache License 2.0\\n@Desc    :   COCO annotation file validity checker and additional utilities.\\n'"
      ]
     },
     "execution_count": 2,
     "metadata": {},
     "output_type": "execute_result"
    }
   ],
   "source": [
    "#!/usr/bin/env python\n",
    "# -*-coding:utf-8 -*-\n",
    "\"\"\"\n",
    "  ████\n",
    "██    ██   Datature\n",
    "  ██  ██   Powering Breakthrough AI\n",
    "    ██\n",
    " \n",
    "@File    :   rle_converter.ipynb\n",
    "@Author  :   Leonard So\n",
    "@Version :   1.0\n",
    "@Contact :   hello@datature.io\n",
    "@License :   Apache License 2.0\n",
    "@Desc    :   COCO annotation file validity checker and additional utilities.\n",
    "\"\"\""
   ]
  },
  {
   "cell_type": "code",
   "execution_count": 3,
   "metadata": {},
   "outputs": [
    {
     "name": "stdout",
     "output_type": "stream",
     "text": [
      "Looking in indexes: https://pypi.org/simple, https://pypi.ngc.nvidia.com\n",
      "Requirement already satisfied: pycocotools in /home/datature/.virtualenvs/cocotools/lib/python3.10/site-packages (2.0.6)\n",
      "Requirement already satisfied: matplotlib>=2.1.0 in /home/datature/.virtualenvs/cocotools/lib/python3.10/site-packages (from pycocotools) (3.7.1)\n",
      "Requirement already satisfied: numpy in /home/datature/.virtualenvs/cocotools/lib/python3.10/site-packages (from pycocotools) (1.24.3)\n",
      "Requirement already satisfied: contourpy>=1.0.1 in /home/datature/.virtualenvs/cocotools/lib/python3.10/site-packages (from matplotlib>=2.1.0->pycocotools) (1.0.7)\n",
      "Requirement already satisfied: cycler>=0.10 in /home/datature/.virtualenvs/cocotools/lib/python3.10/site-packages (from matplotlib>=2.1.0->pycocotools) (0.11.0)\n",
      "Requirement already satisfied: fonttools>=4.22.0 in /home/datature/.virtualenvs/cocotools/lib/python3.10/site-packages (from matplotlib>=2.1.0->pycocotools) (4.39.4)\n",
      "Requirement already satisfied: kiwisolver>=1.0.1 in /home/datature/.virtualenvs/cocotools/lib/python3.10/site-packages (from matplotlib>=2.1.0->pycocotools) (1.4.4)\n",
      "Requirement already satisfied: packaging>=20.0 in /home/datature/.virtualenvs/cocotools/lib/python3.10/site-packages (from matplotlib>=2.1.0->pycocotools) (23.1)\n",
      "Requirement already satisfied: pillow>=6.2.0 in /home/datature/.virtualenvs/cocotools/lib/python3.10/site-packages (from matplotlib>=2.1.0->pycocotools) (9.5.0)\n",
      "Requirement already satisfied: pyparsing>=2.3.1 in /home/datature/.virtualenvs/cocotools/lib/python3.10/site-packages (from matplotlib>=2.1.0->pycocotools) (3.0.9)\n",
      "Requirement already satisfied: python-dateutil>=2.7 in /home/datature/.virtualenvs/cocotools/lib/python3.10/site-packages (from matplotlib>=2.1.0->pycocotools) (2.8.2)\n",
      "Requirement already satisfied: six>=1.5 in /home/datature/.virtualenvs/cocotools/lib/python3.10/site-packages (from python-dateutil>=2.7->matplotlib>=2.1.0->pycocotools) (1.16.0)\n",
      "\n",
      "\u001b[1m[\u001b[0m\u001b[34;49mnotice\u001b[0m\u001b[1;39;49m]\u001b[0m\u001b[39;49m A new release of pip is available: \u001b[0m\u001b[31;49m23.1.2\u001b[0m\u001b[39;49m -> \u001b[0m\u001b[32;49m23.2.1\u001b[0m\n",
      "\u001b[1m[\u001b[0m\u001b[34;49mnotice\u001b[0m\u001b[1;39;49m]\u001b[0m\u001b[39;49m To update, run: \u001b[0m\u001b[32;49mpip install --upgrade pip\u001b[0m\n",
      "Note: you may need to restart the kernel to use updated packages.\n",
      "Looking in indexes: https://pypi.org/simple, https://pypi.ngc.nvidia.com\n",
      "Requirement already satisfied: opencv-python in /home/datature/.virtualenvs/cocotools/lib/python3.10/site-packages (4.8.0.76)\n",
      "Requirement already satisfied: numpy>=1.21.2 in /home/datature/.virtualenvs/cocotools/lib/python3.10/site-packages (from opencv-python) (1.24.3)\n",
      "\n",
      "\u001b[1m[\u001b[0m\u001b[34;49mnotice\u001b[0m\u001b[1;39;49m]\u001b[0m\u001b[39;49m A new release of pip is available: \u001b[0m\u001b[31;49m23.1.2\u001b[0m\u001b[39;49m -> \u001b[0m\u001b[32;49m23.2.1\u001b[0m\n",
      "\u001b[1m[\u001b[0m\u001b[34;49mnotice\u001b[0m\u001b[1;39;49m]\u001b[0m\u001b[39;49m To update, run: \u001b[0m\u001b[32;49mpip install --upgrade pip\u001b[0m\n",
      "Note: you may need to restart the kernel to use updated packages.\n"
     ]
    }
   ],
   "source": [
    "%pip install pycocotools\n",
    "%pip install opencv-python"
   ]
  },
  {
   "cell_type": "code",
   "execution_count": 4,
   "metadata": {},
   "outputs": [],
   "source": [
    "from pycocotools import coco\n",
    "import json\n",
    "import cv2"
   ]
  },
  {
   "cell_type": "markdown",
   "metadata": {},
   "source": [
    "Test the validity of your COCO annotation json file here, by entering the local path to your file below. If you encounter an error when loading, there is likely an issue with your COCO annotation file format.\n",
    "\n",
    "json_file_path is the file path to your original COCO annotation file. output_file_path is the new annotation file path that will be created if there is a need for conversion."
   ]
  },
  {
   "cell_type": "code",
   "execution_count": 5,
   "metadata": {},
   "outputs": [],
   "source": [
    "json_file_path = \"instances_default.json\"\n",
    "output_file_path = \"new_annotation.json\""
   ]
  },
  {
   "cell_type": "code",
   "execution_count": 6,
   "metadata": {},
   "outputs": [],
   "source": [
    "def coco_validity_checker(input_file_path: str):\n",
    "    try:\n",
    "        anno_file = coco.COCO(json_file_path)\n",
    "        return anno_file\n",
    "    except Exception as error:\n",
    "        print(\"Your COCO file is not valid because of the following error: \", error)\n",
    "        return None"
   ]
  },
  {
   "cell_type": "code",
   "execution_count": 9,
   "metadata": {},
   "outputs": [
    {
     "name": "stdout",
     "output_type": "stream",
     "text": [
      "loading annotations into memory...\n",
      "Done (t=0.00s)\n",
      "creating index...\n",
      "index created!\n"
     ]
    }
   ],
   "source": [
    "anno_file = coco_validity_checker(json_file_path)"
   ]
  },
  {
   "cell_type": "markdown",
   "metadata": {},
   "source": [
    "# Converting RLE Encoded Segmentation to Polygon Annotations\n",
    "Datature's upload format for segmentation masks is currently only for polygons. If needed, you can use this subsequent script to convert your RLE-encoded segmentation into polygon vertices. Typically, you know your segmentation is RLE-encoded if your annotation's segmentation component contains a dictionary with counts as a field.\n",
    "\n",
    "Datature also currently doesn't support holes in segmentation masks. Please contact us if this is an issue for you!"
   ]
  },
  {
   "cell_type": "code",
   "execution_count": 10,
   "metadata": {},
   "outputs": [],
   "source": [
    "def convert_rle_to_poly(anno_file: coco.COCO, output_file_path: str):\n",
    "    new_annotation_list = []\n",
    "    ann_id = 1\n",
    "    for annotation in anno_file.anns.values():\n",
    "        if type(annotation[\"segmentation\"]) is list:\n",
    "            print(\"These segmentation annotations should already be in polygon format! You don't need this.\")\n",
    "            return\n",
    "        outputs = anno_file.annToMask(annotation)\n",
    "        contours, _ = cv2.findContours(outputs, \n",
    "        cv2.RETR_EXTERNAL, cv2.CHAIN_APPROX_TC89_KCOS)\n",
    "        for cnt in contours:\n",
    "            fixed_cnt = [cnt.flatten().tolist()]\n",
    "            new_anno = annotation.copy()\n",
    "            new_anno[\"segmentation\"] = fixed_cnt\n",
    "            new_anno[\"id\"] = ann_id\n",
    "            new_anno[\"iscrowd\"] = 0\n",
    "            ann_id += 1\n",
    "            new_annotation_list.append(new_anno)\n",
    "\n",
    "    with open(json_file_path) as f:\n",
    "        orig_file = json.load(f)\n",
    "\n",
    "    orig_file[\"annotations\"] = new_annotation_list\n",
    "    with open(output_file_path,\"w\") as out_f:\n",
    "        json.dump(orig_file, out_f)"
   ]
  },
  {
   "cell_type": "code",
   "execution_count": 11,
   "metadata": {},
   "outputs": [],
   "source": [
    "if anno_file is not None:\n",
    "    convert_rle_to_poly(anno_file, output_file_path)\n",
    "else:\n",
    "    print(\"Please fix your annotation file to be a valid COCO file first!\")"
   ]
  }
 ],
 "metadata": {
  "kernelspec": {
   "display_name": "cocotools",
   "language": "python",
   "name": "python3"
  },
  "language_info": {
   "codemirror_mode": {
    "name": "ipython",
    "version": 3
   },
   "file_extension": ".py",
   "mimetype": "text/x-python",
   "name": "python",
   "nbconvert_exporter": "python",
   "pygments_lexer": "ipython3",
   "version": "3.10.6"
  },
  "orig_nbformat": 4
 },
 "nbformat": 4,
 "nbformat_minor": 2
}
