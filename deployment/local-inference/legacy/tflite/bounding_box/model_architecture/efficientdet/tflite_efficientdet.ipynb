{
 "cells": [
  {
   "cell_type": "markdown",
   "metadata": {},
   "source": [
    "## TFlite Prediction For Bounding Box"
   ]
  },
  {
   "cell_type": "code",
   "execution_count": null,
   "metadata": {},
   "outputs": [
    {
     "name": "stdout",
     "output_type": "stream",
     "text": [
      "Defaulting to user installation because normal site-packages is not writeable\n",
      "Looking in indexes: https://pypi.org/simple, https://asia-python.pkg.dev/datature-nexus/python/simple\n",
      "Collecting tensorflow==2.5.0\n",
      "  Downloading tensorflow-2.5.0-cp37-cp37m-manylinux2010_x86_64.whl (454.3 MB)\n",
      "     |▎                               | 3.4 MB 149 kB/s eta 0:50:23"
     ]
    }
   ],
   "source": [
    "!pip install -U --no-cache-dir tensorflow==2.5.0\n",
    "!pip install -U numpy==1.18.5\n",
    "!pip install -U Pillow==7.2.0\n",
    "!pip install -U opencv-python==4.5.1.48"
   ]
  },
  {
   "cell_type": "markdown",
   "metadata": {},
   "source": [
    "### Imports"
   ]
  },
  {
   "cell_type": "code",
   "execution_count": 1,
   "metadata": {},
   "outputs": [],
   "source": [
    "import os\n",
    "import cv2\n",
    "import glob\n",
    "import numpy as np\n",
    "import tensorflow as tf\n",
    "\n",
    "from PIL import Image\n",
    "\n",
    "os.environ[\"CUDA_VISIBLE_DEVICES\"] = \"-1\" ## Uncomment to use GPU"
   ]
  },
  {
   "cell_type": "markdown",
   "metadata": {},
   "source": [
    "## Prepare Preparation"
   ]
  },
  {
   "cell_type": "markdown",
   "metadata": {},
   "source": [
    "### Set all necessary variables"
   ]
  },
  {
   "cell_type": "code",
   "execution_count": 2,
   "metadata": {},
   "outputs": [],
   "source": [
    "input_folder = \"../../input\" # Path to folder that contains input images\n",
    "output_folder = \"../../output\" # Path to folder to store predicted images\n",
    "width = 640 # Width of image to load into model\n",
    "height = 640 # Height of image to load into model\n",
    "threshold = 0.7 # Prediction confidence threshold\n",
    "model = \"./tf.lite\" # Path to exported tensorflow pb model\n",
    "label = \"./label_map.pbtxt\" # Path to label map"
   ]
  },
  {
   "cell_type": "markdown",
   "metadata": {},
   "source": [
    "### Label map loader"
   ]
  },
  {
   "cell_type": "code",
   "execution_count": 3,
   "metadata": {},
   "outputs": [],
   "source": [
    "def load_label_map(label_map_path):\n",
    "    label_map = {}\n",
    "\n",
    "    with open(label_map_path, \"r\") as label_file:\n",
    "        for line in label_file:\n",
    "            if \"id\" in line:\n",
    "                label_index = int(line.split(\":\")[-1])\n",
    "                label_name = next(label_file).split(\":\")[-1].strip().strip(\"'\")\n",
    "                label_map[label_index] = {\n",
    "                    \"id\": label_index,\n",
    "                    \"name\": label_name,\n",
    "                }\n",
    "\n",
    "    return label_map"
   ]
  },
  {
   "cell_type": "markdown",
   "metadata": {},
   "source": [
    "## Prediction process"
   ]
  },
  {
   "cell_type": "markdown",
   "metadata": {},
   "source": [
    "### Load label_map, color_map"
   ]
  },
  {
   "cell_type": "code",
   "execution_count": 4,
   "metadata": {},
   "outputs": [],
   "source": [
    "## Load label map and color map\n",
    "category_index = load_label_map(label)\n",
    "\n",
    "color_map = {}\n",
    "for each_class in range(len(category_index)):\n",
    "    color_map[each_class] = [\n",
    "        int(i) for i in np.random.choice(range(256), size=3)\n",
    "    ]"
   ]
  },
  {
   "cell_type": "markdown",
   "metadata": {},
   "source": [
    "### Load model into interpreter"
   ]
  },
  {
   "cell_type": "code",
   "execution_count": 5,
   "metadata": {},
   "outputs": [],
   "source": [
    "interpreter = tf.lite.Interpreter(model_path=model)"
   ]
  },
  {
   "cell_type": "markdown",
   "metadata": {},
   "source": [
    "### Visualize details of input & output layers "
   ]
  },
  {
   "cell_type": "code",
   "execution_count": 6,
   "metadata": {},
   "outputs": [
    {
     "name": "stdout",
     "output_type": "stream",
     "text": [
      "0: {'name': 'StatefulPartitionedCall:5', 'index': 409, 'shape': array([1], dtype=int32), 'shape_signature': array([1], dtype=int32), 'dtype': <class 'numpy.float32'>, 'quantization': (0.0, 0), 'quantization_parameters': {'scales': array([], dtype=float32), 'zero_points': array([], dtype=int32), 'quantized_dimension': 0}, 'sparsity_parameters': {}}\n",
      "\n",
      "1: {'name': 'StatefulPartitionedCall:1', 'index': 497, 'shape': array([1, 1, 1], dtype=int32), 'shape_signature': array([ 1, -1, -1], dtype=int32), 'dtype': <class 'numpy.float32'>, 'quantization': (0.0, 0), 'quantization_parameters': {'scales': array([], dtype=float32), 'zero_points': array([], dtype=int32), 'quantized_dimension': 0}, 'sparsity_parameters': {}}\n",
      "\n",
      "2: {'name': 'StatefulPartitionedCall:2', 'index': 479, 'shape': array([1, 1], dtype=int32), 'shape_signature': array([ 1, -1], dtype=int32), 'dtype': <class 'numpy.float32'>, 'quantization': (0.0, 0), 'quantization_parameters': {'scales': array([], dtype=float32), 'zero_points': array([], dtype=int32), 'quantized_dimension': 0}, 'sparsity_parameters': {}}\n",
      "\n",
      "3: {'name': 'StatefulPartitionedCall:7', 'index': 311, 'shape': array([    1, 51150,     2], dtype=int32), 'shape_signature': array([    1, 51150,     2], dtype=int32), 'dtype': <class 'numpy.float32'>, 'quantization': (0.0, 0), 'quantization_parameters': {'scales': array([], dtype=float32), 'zero_points': array([], dtype=int32), 'quantized_dimension': 0}, 'sparsity_parameters': {}}\n",
      "\n",
      "4: {'name': 'StatefulPartitionedCall:4', 'index': 426, 'shape': array([1, 1], dtype=int32), 'shape_signature': array([ 1, -1], dtype=int32), 'dtype': <class 'numpy.float32'>, 'quantization': (0.0, 0), 'quantization_parameters': {'scales': array([], dtype=float32), 'zero_points': array([], dtype=int32), 'quantized_dimension': 0}, 'sparsity_parameters': {}}\n",
      "\n",
      "5: {'name': 'StatefulPartitionedCall:6', 'index': 294, 'shape': array([    1, 51150,     4], dtype=int32), 'shape_signature': array([    1, 51150,     4], dtype=int32), 'dtype': <class 'numpy.float32'>, 'quantization': (0.0, 0), 'quantization_parameters': {'scales': array([], dtype=float32), 'zero_points': array([], dtype=int32), 'quantized_dimension': 0}, 'sparsity_parameters': {}}\n",
      "\n",
      "6: {'name': 'StatefulPartitionedCall:3', 'index': 462, 'shape': array([1, 1, 1], dtype=int32), 'shape_signature': array([ 1, -1, -1], dtype=int32), 'dtype': <class 'numpy.float32'>, 'quantization': (0.0, 0), 'quantization_parameters': {'scales': array([], dtype=float32), 'zero_points': array([], dtype=int32), 'quantized_dimension': 0}, 'sparsity_parameters': {}}\n",
      "\n",
      "7: {'name': 'StatefulPartitionedCall:0', 'index': 444, 'shape': array([1, 1], dtype=int32), 'shape_signature': array([ 1, -1], dtype=int32), 'dtype': <class 'numpy.float32'>, 'quantization': (0.0, 0), 'quantization_parameters': {'scales': array([], dtype=float32), 'zero_points': array([], dtype=int32), 'quantized_dimension': 0}, 'sparsity_parameters': {}}\n",
      "\n"
     ]
    }
   ],
   "source": [
    "## Get input and output tensors.\n",
    "input_details = interpreter.get_input_details()\n",
    "output_details = interpreter.get_output_details()\n",
    "\n",
    "## Print output details.\n",
    "for idx, each_out in enumerate(output_details):\n",
    "    print(\"{}: {}\\n\".format(idx,each_out))"
   ]
  },
  {
   "cell_type": "markdown",
   "metadata": {},
   "source": [
    "### Redefine expected image size of input layer "
   ]
  },
  {
   "cell_type": "code",
   "execution_count": 7,
   "metadata": {},
   "outputs": [],
   "source": [
    "## Current size is set to accept 640 by 640 image\n",
    "interpreter.resize_tensor_input(input_details[0]['index'], (1, width, height, 3))\n",
    "interpreter.allocate_tensors()"
   ]
  },
  {
   "cell_type": "markdown",
   "metadata": {},
   "source": [
    "### Run prediction on each image"
   ]
  },
  {
   "cell_type": "code",
   "execution_count": null,
   "metadata": {},
   "outputs": [],
   "source": [
    "## Run prediction on each image\n",
    "for each_image in glob.glob(os.path.join(input_folder, \"*\")):\n",
    "        print(\"Predicting for {}...\".format(each_image))\n",
    "        \n",
    "        ## Load image into numpy array and resize accordingly\n",
    "        img = cv2.imread(each_image)\n",
    "        img = cv2.cvtColor(img, cv2.COLOR_BGR2RGB)\n",
    "        origi_shape = img.shape\n",
    "        new_img = cv2.resize(img, (width, height))\n",
    "        \n",
    "        ## Execute prediction\n",
    "        interpreter.set_tensor(input_details[0]['index'], [new_img.astype(np.uint8)])\n",
    "        interpreter.invoke()\n",
    "\n",
    "        ## Extract data and filter against desired threshold\n",
    "        for each_layer in output_details:\n",
    "            if each_layer[\"name\"] == \"StatefulPartitionedCall:4\":\n",
    "                scores = np.squeeze(interpreter.get_tensor(each_layer['index']))\n",
    "                \n",
    "            if each_layer[\"name\"] == \"StatefulPartitionedCall:1\":\n",
    "                bboxes = np.squeeze(interpreter.get_tensor(each_layer['index']))\n",
    "                \n",
    "            if each_layer[\"name\"] == \"StatefulPartitionedCall:2\":\n",
    "                classes = np.squeeze(interpreter.get_tensor(each_layer['index']))\n",
    "\n",
    "        ## Filter out predictions below threshold\n",
    "        indexes = np.where(scores > float(threshold))\n",
    "\n",
    "        ## Extract predictions\n",
    "        scores = scores[indexes]\n",
    "        bboxes = bboxes[indexes]\n",
    "        classes = classes[indexes]\n",
    "\n",
    "        ## Draw Predictions\n",
    "        image_origi = np.array(img)\n",
    "\n",
    "        if len(bboxes) != 0:\n",
    "            for idx, each_bbox in enumerate(bboxes):\n",
    "                color = color_map.get(classes[idx] - 1)\n",
    "\n",
    "                ## Draw bounding box\n",
    "                cv2.rectangle(\n",
    "                    image_origi,\n",
    "                    (\n",
    "                        int(each_bbox[1] * origi_shape[1]),\n",
    "                        int(each_bbox[0] * origi_shape[0]),\n",
    "                    ),\n",
    "                    (\n",
    "                        int(each_bbox[3] * origi_shape[1]),\n",
    "                        int(each_bbox[2] * origi_shape[0]),\n",
    "                    ),\n",
    "                    color,\n",
    "                    2,\n",
    "                )\n",
    "\n",
    "                ## Draw label background\n",
    "                cv2.rectangle(\n",
    "                    image_origi,\n",
    "                    (\n",
    "                        int(each_bbox[1] * origi_shape[1]),\n",
    "                        int(each_bbox[2] * origi_shape[0]),\n",
    "                    ),\n",
    "                    (\n",
    "                        int(each_bbox[3] * origi_shape[1]),\n",
    "                        int(each_bbox[2] * origi_shape[0] + 15),\n",
    "                    ),\n",
    "                    color,\n",
    "                    -1,\n",
    "                )\n",
    "\n",
    "                ## Insert label class & score\n",
    "                cv2.putText(\n",
    "                    image_origi,\n",
    "                    \"Class: {}, Score: {}\".format(\n",
    "                        str(category_index[classes[idx]][\"name\"]),\n",
    "                        str(round(scores[idx], 2)),\n",
    "                    ),\n",
    "                    (\n",
    "                        int(each_bbox[1] * origi_shape[1]),\n",
    "                        int(each_bbox[2] * origi_shape[0] + 10),\n",
    "                    ),\n",
    "                    cv2.FONT_HERSHEY_SIMPLEX,\n",
    "                    0.3,\n",
    "                    (0, 0, 0),\n",
    "                    1,\n",
    "                    cv2.LINE_AA,\n",
    "                )\n",
    "\n",
    "        ## Save predicted image\n",
    "        filename = os.path.basename(each_image)\n",
    "        image_predict = Image.fromarray(image_origi)\n",
    "        image_predict.save(os.path.join(output_folder, filename))\n",
    "\n",
    "        print(\n",
    "            \"Saving predicted images to {}...\".format(\n",
    "                os.path.join(OUTPUT, filename)\n",
    "            )\n",
    "        )"
   ]
  },
  {
   "cell_type": "code",
   "execution_count": null,
   "metadata": {},
   "outputs": [],
   "source": []
  }
 ],
 "metadata": {
  "kernelspec": {
   "display_name": "Python 3",
   "language": "python",
   "name": "python3"
  },
  "language_info": {
   "codemirror_mode": {
    "name": "ipython",
    "version": 3
   },
   "file_extension": ".py",
   "mimetype": "text/x-python",
   "name": "python",
   "nbconvert_exporter": "python",
   "pygments_lexer": "ipython3",
   "version": "3.7.5"
  }
 },
 "nbformat": 4,
 "nbformat_minor": 4
}
