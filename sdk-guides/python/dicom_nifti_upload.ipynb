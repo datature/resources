{
 "cells": [
  {
   "cell_type": "code",
   "execution_count": 9,
   "metadata": {},
   "outputs": [
    {
     "data": {
      "text/plain": [
       "'\\n  ████\\n██    ██   Datature\\n  ██  ██   Powering Breakthrough AI\\n    ██\\n\\n@File    :   dicom_nifti_demo.ipynb\\n@Author  :   Koh Quan Wei Ivan\\n@Version :   1.0\\n@Contact :   hello@datature.io\\n@License :   Apache License 2.0\\n@Desc    :   <Description>\\n'"
      ]
     },
     "execution_count": 9,
     "metadata": {},
     "output_type": "execute_result"
    }
   ],
   "source": [
    "#!/usr/bin/env python\n",
    "# -*-coding:utf-8 -*-\n",
    "'''\n",
    "  ████\n",
    "██    ██   Datature\n",
    "  ██  ██   Powering Breakthrough AI\n",
    "    ██\n",
    "\n",
    "@File    :   dicom_nifti_upload.ipynb\n",
    "@Author  :   Koh Quan Wei Ivan\n",
    "@Version :   1.0\n",
    "@Contact :   hello@datature.io\n",
    "@License :   Apache License 2.0\n",
    "@Desc    :   Demo for uploading DICOM and NIFTI files using Datature Python SDK.\n",
    "'''\n"
   ]
  },
  {
   "cell_type": "markdown",
   "metadata": {},
   "source": [
    "# Install required libraries"
   ]
  },
  {
   "cell_type": "code",
   "execution_count": 1,
   "metadata": {},
   "outputs": [
    {
     "name": "stdout",
     "output_type": "stream",
     "text": [
      "Looking in indexes: https://pypi.org/simple, https://pypi.ngc.nvidia.com\n",
      "Requirement already satisfied: datature in /home/cwlroda/.virtualenvs/puppeteer/lib/python3.7/site-packages (1.0.1)\n",
      "Requirement already satisfied: requests in /home/cwlroda/.virtualenvs/puppeteer/lib/python3.7/site-packages (from datature) (2.28.1)\n",
      "Requirement already satisfied: google-crc32c in /home/cwlroda/.virtualenvs/puppeteer/lib/python3.7/site-packages (from datature) (1.5.0)\n",
      "Requirement already satisfied: pyhumps in /home/cwlroda/.virtualenvs/puppeteer/lib/python3.7/site-packages (from datature) (3.8.0)\n",
      "Requirement already satisfied: pyyaml in /home/cwlroda/.virtualenvs/puppeteer/lib/python3.7/site-packages (from datature) (6.0)\n",
      "Requirement already satisfied: inquirer in /home/cwlroda/.virtualenvs/puppeteer/lib/python3.7/site-packages (from datature) (2.10.1)\n",
      "Requirement already satisfied: halo in /home/cwlroda/.virtualenvs/puppeteer/lib/python3.7/site-packages (from datature) (0.0.31)\n",
      "Requirement already satisfied: filetype in /home/cwlroda/.virtualenvs/puppeteer/lib/python3.7/site-packages (from datature) (1.2.0)\n",
      "Requirement already satisfied: opencv-python in /home/cwlroda/.virtualenvs/puppeteer/lib/python3.7/site-packages (from datature) (4.7.0.72)\n",
      "Requirement already satisfied: alive-progress in /home/cwlroda/.virtualenvs/puppeteer/lib/python3.7/site-packages (from datature) (3.0.1)\n",
      "Requirement already satisfied: pydicom in /home/cwlroda/.virtualenvs/puppeteer/lib/python3.7/site-packages (from datature) (2.3.1)\n",
      "Requirement already satisfied: nibabel in /home/cwlroda/.virtualenvs/puppeteer/lib/python3.7/site-packages (from datature) (4.0.2)\n",
      "Requirement already satisfied: pillow in /home/cwlroda/.virtualenvs/puppeteer/lib/python3.7/site-packages (from datature) (9.4.0)\n",
      "Requirement already satisfied: about-time==4.2.1 in /home/cwlroda/.virtualenvs/puppeteer/lib/python3.7/site-packages (from alive-progress->datature) (4.2.1)\n",
      "Requirement already satisfied: grapheme==0.6.0 in /home/cwlroda/.virtualenvs/puppeteer/lib/python3.7/site-packages (from alive-progress->datature) (0.6.0)\n",
      "Requirement already satisfied: log-symbols>=0.0.14 in /home/cwlroda/.virtualenvs/puppeteer/lib/python3.7/site-packages (from halo->datature) (0.0.14)\n",
      "Requirement already satisfied: spinners>=0.0.24 in /home/cwlroda/.virtualenvs/puppeteer/lib/python3.7/site-packages (from halo->datature) (0.0.24)\n",
      "Requirement already satisfied: termcolor>=1.1.0 in /home/cwlroda/.virtualenvs/puppeteer/lib/python3.7/site-packages (from halo->datature) (2.2.0)\n",
      "Requirement already satisfied: colorama>=0.3.9 in /home/cwlroda/.virtualenvs/puppeteer/lib/python3.7/site-packages (from halo->datature) (0.4.6)\n",
      "Requirement already satisfied: six>=1.12.0 in /home/cwlroda/.virtualenvs/puppeteer/lib/python3.7/site-packages (from halo->datature) (1.16.0)\n",
      "Requirement already satisfied: blessed>=1.19.0 in /home/cwlroda/.virtualenvs/puppeteer/lib/python3.7/site-packages (from inquirer->datature) (1.20.0)\n",
      "Requirement already satisfied: python-editor>=1.0.4 in /home/cwlroda/.virtualenvs/puppeteer/lib/python3.7/site-packages (from inquirer->datature) (1.0.4)\n",
      "Requirement already satisfied: readchar>=3.0.6 in /home/cwlroda/.virtualenvs/puppeteer/lib/python3.7/site-packages (from inquirer->datature) (4.0.5)\n",
      "Requirement already satisfied: numpy>=1.17 in /home/cwlroda/.virtualenvs/puppeteer/lib/python3.7/site-packages (from nibabel->datature) (1.21.6)\n",
      "Requirement already satisfied: packaging>=17.0 in /home/cwlroda/.virtualenvs/puppeteer/lib/python3.7/site-packages (from nibabel->datature) (23.1)\n",
      "Requirement already satisfied: setuptools in /home/cwlroda/.virtualenvs/puppeteer/lib/python3.7/site-packages (from nibabel->datature) (67.6.1)\n",
      "Requirement already satisfied: charset-normalizer<3,>=2 in /home/cwlroda/.virtualenvs/puppeteer/lib/python3.7/site-packages (from requests->datature) (2.1.1)\n",
      "Requirement already satisfied: idna<4,>=2.5 in /home/cwlroda/.virtualenvs/puppeteer/lib/python3.7/site-packages (from requests->datature) (3.4)\n",
      "Requirement already satisfied: urllib3<1.27,>=1.21.1 in /home/cwlroda/.virtualenvs/puppeteer/lib/python3.7/site-packages (from requests->datature) (1.26.15)\n",
      "Requirement already satisfied: certifi>=2017.4.17 in /home/cwlroda/.virtualenvs/puppeteer/lib/python3.7/site-packages (from requests->datature) (2022.12.7)\n",
      "Requirement already satisfied: wcwidth>=0.1.4 in /home/cwlroda/.virtualenvs/puppeteer/lib/python3.7/site-packages (from blessed>=1.19.0->inquirer->datature) (0.2.6)\n",
      "\n",
      "\u001b[1m[\u001b[0m\u001b[34;49mnotice\u001b[0m\u001b[1;39;49m]\u001b[0m\u001b[39;49m A new release of pip is available: \u001b[0m\u001b[31;49m23.1\u001b[0m\u001b[39;49m -> \u001b[0m\u001b[32;49m23.1.2\u001b[0m\n",
      "\u001b[1m[\u001b[0m\u001b[34;49mnotice\u001b[0m\u001b[1;39;49m]\u001b[0m\u001b[39;49m To update, run: \u001b[0m\u001b[32;49mpip install --upgrade pip\u001b[0m\n"
     ]
    }
   ],
   "source": [
    "! pip install -U datature"
   ]
  },
  {
   "attachments": {},
   "cell_type": "markdown",
   "metadata": {},
   "source": [
    "# Import Libraries"
   ]
  },
  {
   "cell_type": "code",
   "execution_count": 4,
   "metadata": {},
   "outputs": [],
   "source": [
    "import datature\n",
    "import time"
   ]
  },
  {
   "attachments": {},
   "cell_type": "markdown",
   "metadata": {},
   "source": [
    "# Importing DICOM or NIFTI files\n",
    "\n",
    "Nexus currently has support for the following single file uploads without any need for modification:\n",
    "\n",
    "1. Single NIFTI files containing slices of a single volume\n",
    "2. Single DICOM files containing slices \n",
    "\n",
    "The following cases will require some modification to the code:\n",
    "\n",
    "3. Multiple DICOM files in a directory representing a single volume"
   ]
  },
  {
   "cell_type": "code",
   "execution_count": 3,
   "metadata": {},
   "outputs": [],
   "source": [
    "# change to your own data \n",
    "nifti_file_path = \"data/BRAINIX_NIFTI_Output_3D_File.nii\"\n",
    "dicom_file_path = \"data/0009.DCM\"\n",
    "dicom_folder_path = \"data/T2\""
   ]
  },
  {
   "attachments": {},
   "cell_type": "markdown",
   "metadata": {},
   "source": [
    "# Upload DICOM/NIFTI files to Datature Nexus\n",
    "\n",
    "The steps are as follows:\n",
    "1. Create a new project on Nexus and retrieve the [secret key](https://developers.datature.io/docs/hub-and-api) in the `Integrations` page.\n",
    "2. Use Datature SDK to upload the DICOM/NIFTI files to Datature Nexus\n",
    "\n",
    "For NIFTI files, each file is uploaded as a separate 3D volume.\n",
    "- If the axis of orientation is provided, the SDK will upload a series of 2D slices corresponding to the specified orientation. You will only see one asset containing multiple slices on Nexus.\n",
    "- If the axis of orientation is not provided, the SDK will upload a series of 2D slices for each orientation (x, y, z). This means that you will see three separate assets on Nexus.\n",
    "\n",
    "For DICOM files, only single file uploads are supported. \n",
    "- Each single DICOM file can either represent a single image or a series of 2D slices of a 3D volume.\n",
    "- This means that if you have a 3D volume from multiple stacked DICOM files, you can either:\n",
    "    - Convert it to a NIFTI file for upload, or \n",
    "    - Upload DICOM files consisting of 2D series for each orientation separately."
   ]
  },
  {
   "attachments": {},
   "cell_type": "markdown",
   "metadata": {},
   "source": [
    "## Example: Initialize an upload session to upload a NIFTI file (no orientation specified)\n",
    "\n",
    "Three NIFTI files are uploaded to Datature Nexus, each corresponding to the x, y, and z orientations respectively."
   ]
  },
  {
   "cell_type": "code",
   "execution_count": 5,
   "metadata": {},
   "outputs": [],
   "source": [
    "datature.secret_key = \"<your-secret-key>\"\n",
    "single_nifti_file_path = nifti_file_path\n",
    "\n",
    "upload_session = datature.Asset.upload_session()\n",
    "\n",
    "# upload the single NIFTI file containing a 3D volume\n",
    "upload_session.add(\n",
    "    single_nifti_file_path\n",
    ")  # this will upload axial, coronal, sagittal planes separately\n",
    "\n",
    "# start the upload session in the background\n",
    "# and retrieve the operation link for status checks\n",
    "op_link = upload_session.start([\"main\"], background=True)[\"op_link\"]"
   ]
  },
  {
   "cell_type": "code",
   "execution_count": 6,
   "metadata": {},
   "outputs": [
    {
     "name": "stdout",
     "output_type": "stream",
     "text": [
      "Uploaded 'data/BRAINIX_NIFTI_Output_3D_File.nii' to Nexus!\n"
     ]
    }
   ],
   "source": [
    "# check the status of the upload\n",
    "num_files = 3\n",
    "while datature.Operation.retrieve(\n",
    "        op_link)[\"status\"][\"progress\"][\"with_status\"][\"finished\"] != num_files:\n",
    "    time.sleep(1)\n",
    "print(f\"Uploaded '{nifti_file_path}' to Nexus!\")"
   ]
  },
  {
   "attachments": {},
   "cell_type": "markdown",
   "metadata": {},
   "source": [
    "## Example: Initialize upload session to upload a NIFTI file (with specified orientation)\n",
    "\n",
    "Here, we specify that we want to upload the NIFTI file with the orientation of the slices being along the x-axis. You can also specify the orientation to be along the y-axis or z-axis by changing the value of the `orientation` parameter."
   ]
  },
  {
   "cell_type": "code",
   "execution_count": 7,
   "metadata": {},
   "outputs": [],
   "source": [
    "single_nifti_file_path = nifti_file_path\n",
    "\n",
    "upload_session = datature.Asset.upload_session()\n",
    "\n",
    "# upload the single NIFTI file containing a 3D volume\n",
    "upload_session.add(single_nifti_file_path, orientation=\"x\")  # x orientation\n",
    "\n",
    "# start the upload session in the background\n",
    "# and retrieve the operation link for status checks\n",
    "op_link = upload_session.start(['main'], background=True)[\"op_link\"]"
   ]
  },
  {
   "cell_type": "code",
   "execution_count": 8,
   "metadata": {},
   "outputs": [
    {
     "name": "stdout",
     "output_type": "stream",
     "text": [
      "Uploaded 'data/BRAINIX_NIFTI_Output_3D_File.nii' to Nexus!\n"
     ]
    }
   ],
   "source": [
    "# check the status of the upload\n",
    "num_files = 1\n",
    "while datature.Operation.retrieve(\n",
    "        op_link)[\"status\"][\"progress\"][\"with_status\"][\"finished\"] != num_files:\n",
    "    time.sleep(1)\n",
    "print(f\"Uploaded '{single_nifti_file_path}' to Nexus!\")"
   ]
  },
  {
   "attachments": {},
   "cell_type": "markdown",
   "metadata": {},
   "source": [
    "## Example: Initialize an upload session to upload a DICOM file"
   ]
  },
  {
   "cell_type": "code",
   "execution_count": 9,
   "metadata": {},
   "outputs": [],
   "source": [
    "single_dicom_file_path = dicom_file_path\n",
    "\n",
    "upload_session = datature.Asset.upload_session()\n",
    "\n",
    "# upload the single DICOM file containing a series of slices\n",
    "upload_session.add(dicom_file_path)\n",
    "\n",
    "# start the upload session in the background\n",
    "# and retrieve the operation link for status checks\n",
    "op_link = upload_session.start(['main'], background=True)[\"op_link\"]"
   ]
  },
  {
   "cell_type": "code",
   "execution_count": 10,
   "metadata": {},
   "outputs": [
    {
     "name": "stdout",
     "output_type": "stream",
     "text": [
      "Uploaded 'data/0009.DCM' to Nexus!\n"
     ]
    }
   ],
   "source": [
    "# check the status of the upload\n",
    "num_files = 1\n",
    "while datature.Operation.retrieve(\n",
    "        op_link)[\"status\"][\"progress\"][\"with_status\"][\"finished\"] != num_files:\n",
    "    time.sleep(1)\n",
    "print(f\"Uploaded '{single_dicom_file_path}' to Nexus!\")"
   ]
  }
 ],
 "metadata": {
  "kernelspec": {
   "display_name": "dicom-nifti-demo",
   "language": "python",
   "name": "python3"
  },
  "language_info": {
   "codemirror_mode": {
    "name": "ipython",
    "version": 3
   },
   "file_extension": ".py",
   "mimetype": "text/x-python",
   "name": "python",
   "nbconvert_exporter": "python",
   "pygments_lexer": "ipython3",
   "version": "3.8.16"
  },
  "orig_nbformat": 4
 },
 "nbformat": 4,
 "nbformat_minor": 2
}
