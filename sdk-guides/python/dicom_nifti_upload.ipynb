{
 "cells": [
  {
   "cell_type": "code",
   "execution_count": null,
   "metadata": {},
   "outputs": [],
   "source": [
    "#!/usr/bin/env python\n",
    "# -*-coding:utf-8 -*-\n",
    "'''\n",
    "  ████\n",
    "██    ██   Datature\n",
    "  ██  ██   Powering Breakthrough AI\n",
    "    ██\n",
    "\n",
    "@File    :   dicom_nifti_upload.ipynb\n",
    "@Author  :   Koh Quan Wei Ivan\n",
    "@Version :   1.0\n",
    "@Contact :   hello@datature.io\n",
    "@License :   Apache License 2.0\n",
    "@Desc    :   Demo for uploading DICOM and NIFTI files using Datature Python SDK.\n",
    "'''\n"
   ]
  },
  {
   "cell_type": "markdown",
   "metadata": {},
   "source": [
    "# Install required libraries"
   ]
  },
  {
   "cell_type": "code",
   "execution_count": 1,
   "metadata": {},
   "outputs": [
    {
     "name": "stdout",
     "output_type": "stream",
     "text": [
      "Looking in indexes: https://pypi.org/simple, https://asia-python.pkg.dev/datature-puppeteer/python/simple/\n",
      "Requirement already satisfied: datature in /home/cwlroda/miniconda3/envs/resources/lib/python3.8/site-packages (2.0.0b1)\n",
      "Requirement already satisfied: requests>=2.28.1 in /home/cwlroda/miniconda3/envs/resources/lib/python3.8/site-packages (from datature) (2.28.1)\n",
      "Requirement already satisfied: google-crc32c==1.5.0 in /home/cwlroda/miniconda3/envs/resources/lib/python3.8/site-packages (from datature) (1.5.0)\n",
      "Requirement already satisfied: pyyaml>=6.0.0 in /home/cwlroda/miniconda3/envs/resources/lib/python3.8/site-packages (from datature) (6.0.1)\n",
      "Requirement already satisfied: inquirer>=2.10.1 in /home/cwlroda/miniconda3/envs/resources/lib/python3.8/site-packages (from datature) (3.1.4)\n",
      "Requirement already satisfied: halo==0.0.31 in /home/cwlroda/miniconda3/envs/resources/lib/python3.8/site-packages (from datature) (0.0.31)\n",
      "Requirement already satisfied: filetype==1.2.0 in /home/cwlroda/miniconda3/envs/resources/lib/python3.8/site-packages (from datature) (1.2.0)\n",
      "Requirement already satisfied: opencv-python==4.7.0.72 in /home/cwlroda/miniconda3/envs/resources/lib/python3.8/site-packages (from datature) (4.7.0.72)\n",
      "Requirement already satisfied: alive-progress==3.0.1 in /home/cwlroda/miniconda3/envs/resources/lib/python3.8/site-packages (from datature) (3.0.1)\n",
      "Requirement already satisfied: pydicom>=2.3.1 in /home/cwlroda/miniconda3/envs/resources/lib/python3.8/site-packages (from datature) (2.3.1)\n",
      "Requirement already satisfied: nibabel>=4.0.2 in /home/cwlroda/miniconda3/envs/resources/lib/python3.8/site-packages (from datature) (5.1.0)\n",
      "Requirement already satisfied: matplotlib>=3.5.3 in /home/cwlroda/miniconda3/envs/resources/lib/python3.8/site-packages (from datature) (3.7.4)\n",
      "Requirement already satisfied: numpy>=1.17.3 in /home/cwlroda/miniconda3/envs/resources/lib/python3.8/site-packages (from datature) (1.24.4)\n",
      "Requirement already satisfied: Pillow>=9.5.0 in /home/cwlroda/miniconda3/envs/resources/lib/python3.8/site-packages (from datature) (10.2.0)\n",
      "Requirement already satisfied: msgspec>=0.18.4 in /home/cwlroda/miniconda3/envs/resources/lib/python3.8/site-packages (from datature) (0.18.6)\n",
      "Requirement already satisfied: about-time==4.2.1 in /home/cwlroda/miniconda3/envs/resources/lib/python3.8/site-packages (from alive-progress==3.0.1->datature) (4.2.1)\n",
      "Requirement already satisfied: grapheme==0.6.0 in /home/cwlroda/miniconda3/envs/resources/lib/python3.8/site-packages (from alive-progress==3.0.1->datature) (0.6.0)\n",
      "Requirement already satisfied: log-symbols>=0.0.14 in /home/cwlroda/miniconda3/envs/resources/lib/python3.8/site-packages (from halo==0.0.31->datature) (0.0.14)\n",
      "Requirement already satisfied: spinners>=0.0.24 in /home/cwlroda/miniconda3/envs/resources/lib/python3.8/site-packages (from halo==0.0.31->datature) (0.0.24)\n",
      "Requirement already satisfied: termcolor>=1.1.0 in /home/cwlroda/miniconda3/envs/resources/lib/python3.8/site-packages (from halo==0.0.31->datature) (2.3.0)\n",
      "Requirement already satisfied: colorama>=0.3.9 in /home/cwlroda/miniconda3/envs/resources/lib/python3.8/site-packages (from halo==0.0.31->datature) (0.4.6)\n",
      "Requirement already satisfied: six>=1.12.0 in /home/cwlroda/.local/lib/python3.8/site-packages (from halo==0.0.31->datature) (1.16.0)\n",
      "Requirement already satisfied: blessed>=1.19.0 in /home/cwlroda/miniconda3/envs/resources/lib/python3.8/site-packages (from inquirer>=2.10.1->datature) (1.20.0)\n",
      "Requirement already satisfied: python-editor>=1.0.4 in /home/cwlroda/miniconda3/envs/resources/lib/python3.8/site-packages (from inquirer>=2.10.1->datature) (1.0.4)\n",
      "Requirement already satisfied: readchar>=3.0.6 in /home/cwlroda/miniconda3/envs/resources/lib/python3.8/site-packages (from inquirer>=2.10.1->datature) (4.0.5)\n",
      "Requirement already satisfied: contourpy>=1.0.1 in /home/cwlroda/.local/lib/python3.8/site-packages (from matplotlib>=3.5.3->datature) (1.0.7)\n",
      "Requirement already satisfied: cycler>=0.10 in /home/cwlroda/.local/lib/python3.8/site-packages (from matplotlib>=3.5.3->datature) (0.11.0)\n",
      "Requirement already satisfied: fonttools>=4.22.0 in /home/cwlroda/miniconda3/envs/resources/lib/python3.8/site-packages (from matplotlib>=3.5.3->datature) (4.45.1)\n",
      "Requirement already satisfied: kiwisolver>=1.0.1 in /home/cwlroda/miniconda3/envs/resources/lib/python3.8/site-packages (from matplotlib>=3.5.3->datature) (1.4.5)\n",
      "Requirement already satisfied: packaging>=20.0 in /home/cwlroda/.local/lib/python3.8/site-packages (from matplotlib>=3.5.3->datature) (23.2)\n",
      "Requirement already satisfied: pyparsing>=2.3.1 in /home/cwlroda/miniconda3/envs/resources/lib/python3.8/site-packages (from matplotlib>=3.5.3->datature) (3.1.1)\n",
      "Requirement already satisfied: python-dateutil>=2.7 in /home/cwlroda/.local/lib/python3.8/site-packages (from matplotlib>=3.5.3->datature) (2.8.2)\n",
      "Requirement already satisfied: importlib-resources>=3.2.0 in /home/cwlroda/miniconda3/envs/resources/lib/python3.8/site-packages (from matplotlib>=3.5.3->datature) (6.1.1)\n",
      "Requirement already satisfied: charset-normalizer<3,>=2 in /home/cwlroda/miniconda3/envs/resources/lib/python3.8/site-packages (from requests>=2.28.1->datature) (2.1.1)\n",
      "Requirement already satisfied: idna<4,>=2.5 in /home/cwlroda/miniconda3/envs/resources/lib/python3.8/site-packages (from requests>=2.28.1->datature) (3.4)\n",
      "Requirement already satisfied: urllib3<1.27,>=1.21.1 in /home/cwlroda/miniconda3/envs/resources/lib/python3.8/site-packages (from requests>=2.28.1->datature) (1.26.18)\n",
      "Requirement already satisfied: certifi>=2017.4.17 in /home/cwlroda/miniconda3/envs/resources/lib/python3.8/site-packages (from requests>=2.28.1->datature) (2023.11.17)\n",
      "Requirement already satisfied: wcwidth>=0.1.4 in /home/cwlroda/miniconda3/envs/resources/lib/python3.8/site-packages (from blessed>=1.19.0->inquirer>=2.10.1->datature) (0.2.5)\n",
      "Requirement already satisfied: zipp>=3.1.0 in /home/cwlroda/.local/lib/python3.8/site-packages (from importlib-resources>=3.2.0->matplotlib>=3.5.3->datature) (3.12.1)\n",
      "Requirement already satisfied: setuptools>=41.0 in /home/cwlroda/.local/lib/python3.8/site-packages (from readchar>=3.0.6->inquirer>=2.10.1->datature) (67.1.0)\n"
     ]
    }
   ],
   "source": [
    "! pip install -U datature"
   ]
  },
  {
   "attachments": {},
   "cell_type": "markdown",
   "metadata": {},
   "source": [
    "# Import Libraries"
   ]
  },
  {
   "cell_type": "code",
   "execution_count": 2,
   "metadata": {},
   "outputs": [],
   "source": [
    "from datature.nexus import Client"
   ]
  },
  {
   "attachments": {},
   "cell_type": "markdown",
   "metadata": {},
   "source": [
    "# Importing DICOM or NIFTI files\n",
    "\n",
    "Nexus currently has support for the following single file uploads without any need for modification:\n",
    "\n",
    "1. Single NIFTI files containing slices of a single volume\n",
    "2. Single DICOM files containing slices \n",
    "\n",
    "The following cases will require some modification to the code:\n",
    "\n",
    "3. Multiple DICOM files in a directory representing a single volume"
   ]
  },
  {
   "cell_type": "code",
   "execution_count": 3,
   "metadata": {},
   "outputs": [],
   "source": [
    "# change to your own data\n",
    "nifti_file_path = \"data/BRAINIX_NIFTI_Output_3D_File.nii\"\n",
    "dicom_file_path = \"data/0009.DCM\"\n",
    "dicom_folder_path = \"data/T2\"\n",
    "\n",
    "# Change this to your project secret key to the new project you want to upload your sliced images to\n",
    "# It can be located on Nexus under the Integrations tab in your project page\n",
    "SECRET_KEY = \"<YOUR_SECRET_KEY\"\n",
    "\n",
    "# Change this to your project ID on Nexus. This can be found via two methods:\n",
    "# 1. In the URL of the project page (https://nexus.datature.io/project/<YOUR_PROJECT_ID>)\n",
    "# 2. Project Key in the Integrations page\n",
    "PROJECT_ID = \"proj_<YOUR_PROJECT_ID>\""
   ]
  },
  {
   "attachments": {},
   "cell_type": "markdown",
   "metadata": {},
   "source": [
    "# Upload DICOM/NIFTI files to Datature Nexus\n",
    "\n",
    "The steps are as follows:\n",
    "1. Create a new project on Nexus and retrieve the [secret key](https://developers.datature.io/docs/hub-and-api) in the `Integrations` page.\n",
    "2. Use Datature SDK to upload the DICOM/NIFTI files to Datature Nexus\n",
    "\n",
    "For NIFTI files, each file is uploaded as a separate 3D volume.\n",
    "- If the axis of orientation is provided, the SDK will upload a series of 2D slices corresponding to the specified orientation. You will only see one asset containing multiple slices on Nexus.\n",
    "- If the axis of orientation is not provided, the SDK will upload a series of 2D slices for each orientation (x, y, z). This means that you will see three separate assets on Nexus.\n",
    "\n",
    "For DICOM files, only single file uploads are supported. \n",
    "- Each single DICOM file can either represent a single image or a series of 2D slices of a 3D volume.\n",
    "- This means that if you have a 3D volume from multiple stacked DICOM files, you can either:\n",
    "    - Convert it to a NIFTI file for upload, or \n",
    "    - Upload DICOM files consisting of 2D series for each orientation separately."
   ]
  },
  {
   "attachments": {},
   "cell_type": "markdown",
   "metadata": {},
   "source": [
    "## Example: Initialize an upload session to upload a NIFTI file (no orientation specified)\n",
    "\n",
    "Three NIFTI files are uploaded to Datature Nexus, each corresponding to the x, y, and z orientations respectively."
   ]
  },
  {
   "cell_type": "code",
   "execution_count": 4,
   "metadata": {},
   "outputs": [],
   "source": [
    "client = Client(SECRET_KEY)\n",
    "project = client.get_project(PROJECT_ID)"
   ]
  },
  {
   "cell_type": "code",
   "execution_count": 5,
   "metadata": {},
   "outputs": [
    {
     "name": "stdout",
     "output_type": "stream",
     "text": [
      "Uploaded 'data/BRAINIX_NIFTI_Output_3D_File.nii' to Nexus!\n"
     ]
    }
   ],
   "source": [
    "single_nifti_file_path = nifti_file_path\n",
    "\n",
    "upload_session = project.assets.create_upload_session()\n",
    "\n",
    "# upload the single NIFTI file containing a 3D volume\n",
    "with upload_session:\n",
    "    # this will upload axial, coronal, sagittal planes separately as 3 different assets\n",
    "    upload_session.add_path(single_nifti_file_path)\n",
    "upload_session.wait_until_done()\n",
    "print(f\"Uploaded '{nifti_file_path}' to Nexus!\")"
   ]
  },
  {
   "attachments": {},
   "cell_type": "markdown",
   "metadata": {},
   "source": [
    "## Example: Initialize upload session to upload a NIFTI file (with specified orientation)\n",
    "\n",
    "Here, we specify that we want to upload the NIFTI file with the orientation of the slices being along the x-axis. You can also specify the orientation to be along the y-axis or z-axis by changing the value of the `nifti_orientation` parameter."
   ]
  },
  {
   "cell_type": "code",
   "execution_count": 7,
   "metadata": {},
   "outputs": [
    {
     "name": "stdout",
     "output_type": "stream",
     "text": [
      "Uploaded 'data/BRAINIX_NIFTI_Output_3D_File.nii' to Nexus!\n"
     ]
    }
   ],
   "source": [
    "single_nifti_file_path = nifti_file_path\n",
    "\n",
    "upload_session = project.assets.create_upload_session()\n",
    "\n",
    "# upload the single NIFTI file containing a 3D volume\n",
    "with upload_session:\n",
    "    upload_session.add_path(single_nifti_file_path, nifti_orientation=\"x\")  # x orientation\n",
    "upload_session.wait_until_done()\n",
    "print(f\"Uploaded '{single_nifti_file_path}' to Nexus!\")"
   ]
  },
  {
   "attachments": {},
   "cell_type": "markdown",
   "metadata": {},
   "source": [
    "## Example: Initialize an upload session to upload a DICOM file"
   ]
  },
  {
   "cell_type": "code",
   "execution_count": 8,
   "metadata": {},
   "outputs": [
    {
     "name": "stdout",
     "output_type": "stream",
     "text": [
      "Uploaded 'data/0009.DCM' to Nexus!\n"
     ]
    }
   ],
   "source": [
    "single_dicom_file_path = dicom_file_path\n",
    "\n",
    "upload_session = project.assets.create_upload_session()\n",
    "\n",
    "# upload the single DICOM file containing a series of slices\n",
    "with upload_session:\n",
    "    upload_session.add_path(single_dicom_file_path)\n",
    "upload_session.wait_until_done()\n",
    "print(f\"Uploaded '{single_dicom_file_path}' to Nexus!\")"
   ]
  }
 ],
 "metadata": {
  "kernelspec": {
   "display_name": "dicom-nifti-demo",
   "language": "python",
   "name": "python3"
  },
  "language_info": {
   "codemirror_mode": {
    "name": "ipython",
    "version": 3
   },
   "file_extension": ".py",
   "mimetype": "text/x-python",
   "name": "python",
   "nbconvert_exporter": "python",
   "pygments_lexer": "ipython3",
   "version": "3.8.18"
  },
  "orig_nbformat": 4
 },
 "nbformat": 4,
 "nbformat_minor": 2
}
