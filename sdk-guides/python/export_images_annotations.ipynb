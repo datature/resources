{
 "cells": [
  {
   "cell_type": "markdown",
   "metadata": {},
   "source": [
    "# Export images and annotations from Datature Nexus using Datature Python SDK"
   ]
  },
  {
   "cell_type": "code",
   "execution_count": null,
   "metadata": {},
   "outputs": [],
   "source": [
    "#!/usr/bin/env python\n",
    "# -*-coding:utf-8 -*-\n",
    "\"\"\"\n",
    "  ████\n",
    "██    ██   Datature\n",
    "  ██  ██   Powering Breakthrough AI\n",
    "    ██\n",
    " \n",
    "@File    :   export_images_annotations.ipynb\n",
    "@Author  :   Wei Loon Cheng\n",
    "@Version :   1.0\n",
    "@Contact :   hello@datature.io\n",
    "@License :   Apache License 2.0\n",
    "@Desc    :   Export images and annotations from Datature Nexus using Python SDK\n",
    "\"\"\""
   ]
  },
  {
   "cell_type": "markdown",
   "metadata": {},
   "source": [
    "### Install prerequisites"
   ]
  },
  {
   "cell_type": "code",
   "execution_count": 1,
   "metadata": {},
   "outputs": [
    {
     "name": "stdout",
     "output_type": "stream",
     "text": [
      "Looking in indexes: https://pypi.org/simple, https://pypi.ngc.nvidia.com\n",
      "Requirement already satisfied: datature in /home/cwlroda/.virtualenvs/script-library/lib/python3.7/site-packages (1.0.2)\n",
      "Requirement already satisfied: requests in /home/cwlroda/.virtualenvs/script-library/lib/python3.7/site-packages (from datature) (2.28.2)\n",
      "Requirement already satisfied: google-crc32c in /home/cwlroda/.virtualenvs/script-library/lib/python3.7/site-packages (from datature) (1.5.0)\n",
      "Requirement already satisfied: pyhumps in /home/cwlroda/.virtualenvs/script-library/lib/python3.7/site-packages (from datature) (3.8.0)\n",
      "Requirement already satisfied: pyyaml in /home/cwlroda/.virtualenvs/script-library/lib/python3.7/site-packages (from datature) (6.0)\n",
      "Requirement already satisfied: inquirer in /home/cwlroda/.virtualenvs/script-library/lib/python3.7/site-packages (from datature) (2.10.1)\n",
      "Requirement already satisfied: halo in /home/cwlroda/.virtualenvs/script-library/lib/python3.7/site-packages (from datature) (0.0.31)\n",
      "Requirement already satisfied: filetype in /home/cwlroda/.virtualenvs/script-library/lib/python3.7/site-packages (from datature) (1.2.0)\n",
      "Requirement already satisfied: opencv-python in /home/cwlroda/.virtualenvs/script-library/lib/python3.7/site-packages (from datature) (4.7.0.72)\n",
      "Requirement already satisfied: alive-progress in /home/cwlroda/.virtualenvs/script-library/lib/python3.7/site-packages (from datature) (3.1.0)\n",
      "Requirement already satisfied: pydicom in /home/cwlroda/.virtualenvs/script-library/lib/python3.7/site-packages (from datature) (2.3.1)\n",
      "Requirement already satisfied: nibabel in /home/cwlroda/.virtualenvs/script-library/lib/python3.7/site-packages (from datature) (4.0.2)\n",
      "Requirement already satisfied: pillow in /home/cwlroda/.virtualenvs/script-library/lib/python3.7/site-packages (from datature) (9.5.0)\n",
      "Requirement already satisfied: about-time==4.2.1 in /home/cwlroda/.virtualenvs/script-library/lib/python3.7/site-packages (from alive-progress->datature) (4.2.1)\n",
      "Requirement already satisfied: grapheme==0.6.0 in /home/cwlroda/.virtualenvs/script-library/lib/python3.7/site-packages (from alive-progress->datature) (0.6.0)\n",
      "Requirement already satisfied: log-symbols>=0.0.14 in /home/cwlroda/.virtualenvs/script-library/lib/python3.7/site-packages (from halo->datature) (0.0.14)\n",
      "Requirement already satisfied: spinners>=0.0.24 in /home/cwlroda/.virtualenvs/script-library/lib/python3.7/site-packages (from halo->datature) (0.0.24)\n",
      "Requirement already satisfied: termcolor>=1.1.0 in /home/cwlroda/.virtualenvs/script-library/lib/python3.7/site-packages (from halo->datature) (2.2.0)\n",
      "Requirement already satisfied: colorama>=0.3.9 in /home/cwlroda/.virtualenvs/script-library/lib/python3.7/site-packages (from halo->datature) (0.4.6)\n",
      "Requirement already satisfied: six>=1.12.0 in /home/cwlroda/.virtualenvs/script-library/lib/python3.7/site-packages (from halo->datature) (1.16.0)\n",
      "Requirement already satisfied: blessed>=1.19.0 in /home/cwlroda/.virtualenvs/script-library/lib/python3.7/site-packages (from inquirer->datature) (1.20.0)\n",
      "Requirement already satisfied: python-editor>=1.0.4 in /home/cwlroda/.virtualenvs/script-library/lib/python3.7/site-packages (from inquirer->datature) (1.0.4)\n",
      "Requirement already satisfied: readchar>=3.0.6 in /home/cwlroda/.virtualenvs/script-library/lib/python3.7/site-packages (from inquirer->datature) (4.0.5)\n",
      "Requirement already satisfied: numpy>=1.17 in /home/cwlroda/.virtualenvs/script-library/lib/python3.7/site-packages (from nibabel->datature) (1.21.6)\n",
      "Requirement already satisfied: packaging>=17.0 in /home/cwlroda/.virtualenvs/script-library/lib/python3.7/site-packages (from nibabel->datature) (23.0)\n",
      "Requirement already satisfied: setuptools in /home/cwlroda/.virtualenvs/script-library/lib/python3.7/site-packages (from nibabel->datature) (67.4.0)\n",
      "Requirement already satisfied: charset-normalizer<4,>=2 in /home/cwlroda/.virtualenvs/script-library/lib/python3.7/site-packages (from requests->datature) (3.1.0)\n",
      "Requirement already satisfied: idna<4,>=2.5 in /home/cwlroda/.virtualenvs/script-library/lib/python3.7/site-packages (from requests->datature) (3.4)\n",
      "Requirement already satisfied: urllib3<1.27,>=1.21.1 in /home/cwlroda/.virtualenvs/script-library/lib/python3.7/site-packages (from requests->datature) (1.26.15)\n",
      "Requirement already satisfied: certifi>=2017.4.17 in /home/cwlroda/.virtualenvs/script-library/lib/python3.7/site-packages (from requests->datature) (2022.12.7)\n",
      "Requirement already satisfied: wcwidth>=0.1.4 in /home/cwlroda/.virtualenvs/script-library/lib/python3.7/site-packages (from blessed>=1.19.0->inquirer->datature) (0.2.6)\n",
      "\n",
      "\u001b[1m[\u001b[0m\u001b[34;49mnotice\u001b[0m\u001b[1;39;49m]\u001b[0m\u001b[39;49m A new release of pip is available: \u001b[0m\u001b[31;49m23.1.2\u001b[0m\u001b[39;49m -> \u001b[0m\u001b[32;49m23.2.1\u001b[0m\n",
      "\u001b[1m[\u001b[0m\u001b[34;49mnotice\u001b[0m\u001b[1;39;49m]\u001b[0m\u001b[39;49m To update, run: \u001b[0m\u001b[32;49mpip install --upgrade pip\u001b[0m\n",
      "Note: you may need to restart the kernel to use updated packages.\n",
      "Looking in indexes: https://pypi.org/simple, https://pypi.ngc.nvidia.com\n",
      "Requirement already satisfied: wget in /home/cwlroda/.virtualenvs/script-library/lib/python3.7/site-packages (3.2)\n",
      "\n",
      "\u001b[1m[\u001b[0m\u001b[34;49mnotice\u001b[0m\u001b[1;39;49m]\u001b[0m\u001b[39;49m A new release of pip is available: \u001b[0m\u001b[31;49m23.1.2\u001b[0m\u001b[39;49m -> \u001b[0m\u001b[32;49m23.2.1\u001b[0m\n",
      "\u001b[1m[\u001b[0m\u001b[34;49mnotice\u001b[0m\u001b[1;39;49m]\u001b[0m\u001b[39;49m To update, run: \u001b[0m\u001b[32;49mpip install --upgrade pip\u001b[0m\n",
      "Note: you may need to restart the kernel to use updated packages.\n"
     ]
    }
   ],
   "source": [
    "%pip install datature\n",
    "%pip install wget"
   ]
  },
  {
   "cell_type": "code",
   "execution_count": 2,
   "metadata": {},
   "outputs": [],
   "source": [
    "import os\n",
    "import time\n",
    "import urllib\n",
    "import wget\n",
    "from zipfile import ZipFile\n",
    "\n",
    "import datature"
   ]
  },
  {
   "cell_type": "code",
   "execution_count": 3,
   "metadata": {},
   "outputs": [],
   "source": [
    "# change this to your project secret key\n",
    "# it can be located on Nexus under the Integrations tab in your project page\n",
    "datature.secret_key = \"<YOUR_SECRET_KEY>\""
   ]
  },
  {
   "cell_type": "markdown",
   "metadata": {},
   "source": [
    "### Download images\n",
    "\n",
    "Images from your Nexus project will be downloaded and saved to the `images` folder. Datature Python SDK has an asset pagination limit of 100, so multiple calls will made to the API to download all images if your project has more than 100 images."
   ]
  },
  {
   "cell_type": "code",
   "execution_count": 4,
   "metadata": {},
   "outputs": [
    {
     "name": "stdout",
     "output_type": "stream",
     "text": [
      "Downloading images from Nexus...\n",
      "600 images saved to: images\n"
     ]
    }
   ],
   "source": [
    "# change this to your desired image directory\n",
    "image_dir = \"images\"\n",
    "os.makedirs(image_dir, exist_ok=True)\n",
    "\n",
    "# Download images from Nexus\n",
    "print(\"Downloading images from Nexus...\")\n",
    "urls = []\n",
    "assets = datature.Asset.list({\"limit\": 100})\n",
    "urls.extend([(asset[\"filename\"], asset[\"url\"]) for asset in assets[\"data\"]])\n",
    "next_page = assets[\"next_page\"] if \"next_page\" in assets else None\n",
    "\n",
    "while next_page is not None:\n",
    "    assets = datature.Asset.list({\n",
    "        \"limit\": 100,\n",
    "        \"page\": next_page,\n",
    "    })\n",
    "    urls.extend([(asset[\"filename\"], asset[\"url\"]) for asset in assets[\"data\"]])\n",
    "    next_page = assets[\"next_page\"] if \"next_page\" in assets else None\n",
    "\n",
    "for filename, url in urls:\n",
    "    urllib.request.urlretrieve(url, os.path.join(image_dir, filename))\n",
    "print(f\"{len(urls)} images saved to: {image_dir}\")"
   ]
  },
  {
   "cell_type": "markdown",
   "metadata": {},
   "source": [
    "### Export and download annotations\n",
    "\n",
    "Datature supports the annotation formats listed [here](https://developers.datature.io/docs/exporting-annotations#annotation-formats). You can choose various formats depending on whether your annotations are bounding boxes or polygons."
   ]
  },
  {
   "cell_type": "code",
   "execution_count": 5,
   "metadata": {},
   "outputs": [
    {
     "name": "stdout",
     "output_type": "stream",
     "text": [
      "Downloading annotations from Nexus...\n",
      "Annotations saved to: 67f999395706c26d81b05524176f3258/dump.json\n"
     ]
    }
   ],
   "source": [
    "# Download polygon annotation from Nexus\n",
    "print(\"Downloading annotations from Nexus...\")\n",
    "operation = datature.Annotation.export(\n",
    "    # change this to your desired annotation format\n",
    "    # supported formats are listed here\n",
    "    # https://developers.datature.io/docs/types-sdk-functions#annotationformat\n",
    "    \"polygon_coco\",\n",
    "    {\n",
    "        \"normalized\": False,\n",
    "        \"shuffle\": False,\n",
    "        # 0.0 means all annotations are stored in the same file,\n",
    "        # change this value if you want a train-test split\n",
    "        \"split_ratio\": 0.0,\n",
    "        \"seed\": 1,\n",
    "    },\n",
    "    background=True)\n",
    "\n",
    "while datature.Operation.retrieve(\n",
    "        operation[\"op_link\"]\n",
    ")[\"status\"][\"progress\"][\"with_status\"][\"finished\"] != 1:\n",
    "    time.sleep(1)\n",
    "\n",
    "annotation_url = datature.Annotation.retrieve_exported_file(\n",
    "    operation[\"id\"])[\"download\"][\"url\"]\n",
    "annotation_zipfile = wget.download(annotation_url)\n",
    "\n",
    "with ZipFile(annotation_zipfile, 'r') as zObject:\n",
    "    annotation_filename = zObject.namelist()[-1]\n",
    "    zObject.extractall()\n",
    "print(f\"Annotations saved to: {annotation_filename}\")"
   ]
  }
 ],
 "metadata": {
  "kernelspec": {
   "display_name": "puppeteer",
   "language": "python",
   "name": "python3"
  },
  "language_info": {
   "codemirror_mode": {
    "name": "ipython",
    "version": 3
   },
   "file_extension": ".py",
   "mimetype": "text/x-python",
   "name": "python",
   "nbconvert_exporter": "python",
   "pygments_lexer": "ipython3",
   "version": "3.7.17"
  },
  "orig_nbformat": 4
 },
 "nbformat": 4,
 "nbformat_minor": 2
}
