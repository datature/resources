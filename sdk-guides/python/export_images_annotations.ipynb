{
 "cells": [
  {
   "cell_type": "markdown",
   "metadata": {},
   "source": [
    "# Export Images and Annotations from Datature Nexus using Datature Python SDK"
   ]
  },
  {
   "cell_type": "code",
   "execution_count": null,
   "metadata": {},
   "outputs": [],
   "source": [
    "#!/usr/bin/env python\n",
    "# -*-coding:utf-8 -*-\n",
    "\"\"\"\n",
    "  ████\n",
    "██    ██   Datature\n",
    "  ██  ██   Powering Breakthrough AI\n",
    "    ██\n",
    "\n",
    "@File    :   export_images_annotations.ipynb\n",
    "@Author  :   Wei Loon Cheng\n",
    "@Version :   1.0\n",
    "@Contact :   hello@datature.io\n",
    "@License :   Apache License 2.0\n",
    "@Desc    :   Export images and annotations from Datature Nexus using Python SDK\n",
    "\"\"\""
   ]
  },
  {
   "cell_type": "markdown",
   "metadata": {},
   "source": [
    "### Install prerequisites"
   ]
  },
  {
   "cell_type": "code",
   "execution_count": 1,
   "metadata": {},
   "outputs": [
    {
     "name": "stdout",
     "output_type": "stream",
     "text": [
      "Looking in indexes: https://pypi.org/simple, https://asia-python.pkg.dev/datature-puppeteer/python/simple/\n",
      "Requirement already satisfied: datature in /home/cwlroda/miniconda3/envs/resources/lib/python3.8/site-packages (2.0.0b1)\n",
      "Requirement already satisfied: requests>=2.28.1 in /home/cwlroda/miniconda3/envs/resources/lib/python3.8/site-packages (from datature) (2.28.1)\n",
      "Requirement already satisfied: google-crc32c==1.5.0 in /home/cwlroda/miniconda3/envs/resources/lib/python3.8/site-packages (from datature) (1.5.0)\n",
      "Requirement already satisfied: pyyaml>=6.0.0 in /home/cwlroda/miniconda3/envs/resources/lib/python3.8/site-packages (from datature) (6.0.1)\n",
      "Requirement already satisfied: inquirer>=2.10.1 in /home/cwlroda/miniconda3/envs/resources/lib/python3.8/site-packages (from datature) (3.1.4)\n",
      "Requirement already satisfied: halo==0.0.31 in /home/cwlroda/miniconda3/envs/resources/lib/python3.8/site-packages (from datature) (0.0.31)\n",
      "Requirement already satisfied: filetype==1.2.0 in /home/cwlroda/miniconda3/envs/resources/lib/python3.8/site-packages (from datature) (1.2.0)\n",
      "Requirement already satisfied: opencv-python==4.7.0.72 in /home/cwlroda/miniconda3/envs/resources/lib/python3.8/site-packages (from datature) (4.7.0.72)\n",
      "Requirement already satisfied: alive-progress==3.0.1 in /home/cwlroda/miniconda3/envs/resources/lib/python3.8/site-packages (from datature) (3.0.1)\n",
      "Requirement already satisfied: pydicom>=2.3.1 in /home/cwlroda/miniconda3/envs/resources/lib/python3.8/site-packages (from datature) (2.3.1)\n",
      "Requirement already satisfied: nibabel>=4.0.2 in /home/cwlroda/miniconda3/envs/resources/lib/python3.8/site-packages (from datature) (5.1.0)\n",
      "Requirement already satisfied: matplotlib>=3.5.3 in /home/cwlroda/miniconda3/envs/resources/lib/python3.8/site-packages (from datature) (3.7.4)\n",
      "Requirement already satisfied: numpy>=1.17.3 in /home/cwlroda/miniconda3/envs/resources/lib/python3.8/site-packages (from datature) (1.24.4)\n",
      "Requirement already satisfied: Pillow>=9.5.0 in /home/cwlroda/miniconda3/envs/resources/lib/python3.8/site-packages (from datature) (10.2.0)\n",
      "Requirement already satisfied: msgspec>=0.18.4 in /home/cwlroda/miniconda3/envs/resources/lib/python3.8/site-packages (from datature) (0.18.6)\n",
      "Requirement already satisfied: about-time==4.2.1 in /home/cwlroda/miniconda3/envs/resources/lib/python3.8/site-packages (from alive-progress==3.0.1->datature) (4.2.1)\n",
      "Requirement already satisfied: grapheme==0.6.0 in /home/cwlroda/miniconda3/envs/resources/lib/python3.8/site-packages (from alive-progress==3.0.1->datature) (0.6.0)\n",
      "Requirement already satisfied: log-symbols>=0.0.14 in /home/cwlroda/miniconda3/envs/resources/lib/python3.8/site-packages (from halo==0.0.31->datature) (0.0.14)\n",
      "Requirement already satisfied: spinners>=0.0.24 in /home/cwlroda/miniconda3/envs/resources/lib/python3.8/site-packages (from halo==0.0.31->datature) (0.0.24)\n",
      "Requirement already satisfied: termcolor>=1.1.0 in /home/cwlroda/miniconda3/envs/resources/lib/python3.8/site-packages (from halo==0.0.31->datature) (2.3.0)\n",
      "Requirement already satisfied: colorama>=0.3.9 in /home/cwlroda/miniconda3/envs/resources/lib/python3.8/site-packages (from halo==0.0.31->datature) (0.4.6)\n",
      "Requirement already satisfied: six>=1.12.0 in /home/cwlroda/.local/lib/python3.8/site-packages (from halo==0.0.31->datature) (1.16.0)\n",
      "Requirement already satisfied: blessed>=1.19.0 in /home/cwlroda/miniconda3/envs/resources/lib/python3.8/site-packages (from inquirer>=2.10.1->datature) (1.20.0)\n",
      "Requirement already satisfied: python-editor>=1.0.4 in /home/cwlroda/miniconda3/envs/resources/lib/python3.8/site-packages (from inquirer>=2.10.1->datature) (1.0.4)\n",
      "Requirement already satisfied: readchar>=3.0.6 in /home/cwlroda/miniconda3/envs/resources/lib/python3.8/site-packages (from inquirer>=2.10.1->datature) (4.0.5)\n",
      "Requirement already satisfied: contourpy>=1.0.1 in /home/cwlroda/.local/lib/python3.8/site-packages (from matplotlib>=3.5.3->datature) (1.0.7)\n",
      "Requirement already satisfied: cycler>=0.10 in /home/cwlroda/.local/lib/python3.8/site-packages (from matplotlib>=3.5.3->datature) (0.11.0)\n",
      "Requirement already satisfied: fonttools>=4.22.0 in /home/cwlroda/miniconda3/envs/resources/lib/python3.8/site-packages (from matplotlib>=3.5.3->datature) (4.45.1)\n",
      "Requirement already satisfied: kiwisolver>=1.0.1 in /home/cwlroda/miniconda3/envs/resources/lib/python3.8/site-packages (from matplotlib>=3.5.3->datature) (1.4.5)\n",
      "Requirement already satisfied: packaging>=20.0 in /home/cwlroda/.local/lib/python3.8/site-packages (from matplotlib>=3.5.3->datature) (23.2)\n",
      "Requirement already satisfied: pyparsing>=2.3.1 in /home/cwlroda/miniconda3/envs/resources/lib/python3.8/site-packages (from matplotlib>=3.5.3->datature) (3.1.1)\n",
      "Requirement already satisfied: python-dateutil>=2.7 in /home/cwlroda/.local/lib/python3.8/site-packages (from matplotlib>=3.5.3->datature) (2.8.2)\n",
      "Requirement already satisfied: importlib-resources>=3.2.0 in /home/cwlroda/miniconda3/envs/resources/lib/python3.8/site-packages (from matplotlib>=3.5.3->datature) (6.1.1)\n",
      "Requirement already satisfied: charset-normalizer<3,>=2 in /home/cwlroda/miniconda3/envs/resources/lib/python3.8/site-packages (from requests>=2.28.1->datature) (2.1.1)\n",
      "Requirement already satisfied: idna<4,>=2.5 in /home/cwlroda/miniconda3/envs/resources/lib/python3.8/site-packages (from requests>=2.28.1->datature) (3.4)\n",
      "Requirement already satisfied: urllib3<1.27,>=1.21.1 in /home/cwlroda/miniconda3/envs/resources/lib/python3.8/site-packages (from requests>=2.28.1->datature) (1.26.18)\n",
      "Requirement already satisfied: certifi>=2017.4.17 in /home/cwlroda/miniconda3/envs/resources/lib/python3.8/site-packages (from requests>=2.28.1->datature) (2023.11.17)\n",
      "Requirement already satisfied: wcwidth>=0.1.4 in /home/cwlroda/miniconda3/envs/resources/lib/python3.8/site-packages (from blessed>=1.19.0->inquirer>=2.10.1->datature) (0.2.5)\n",
      "Requirement already satisfied: zipp>=3.1.0 in /home/cwlroda/.local/lib/python3.8/site-packages (from importlib-resources>=3.2.0->matplotlib>=3.5.3->datature) (3.12.1)\n",
      "Requirement already satisfied: setuptools>=41.0 in /home/cwlroda/.local/lib/python3.8/site-packages (from readchar>=3.0.6->inquirer>=2.10.1->datature) (67.1.0)\n",
      "Note: you may need to restart the kernel to use updated packages.\n",
      "Looking in indexes: https://pypi.org/simple, https://asia-python.pkg.dev/datature-puppeteer/python/simple/\n",
      "Requirement already satisfied: wget in /home/cwlroda/miniconda3/envs/resources/lib/python3.8/site-packages (3.2)\n",
      "Note: you may need to restart the kernel to use updated packages.\n"
     ]
    }
   ],
   "source": [
    "%pip install datature\n",
    "%pip install wget"
   ]
  },
  {
   "cell_type": "code",
   "execution_count": 2,
   "metadata": {},
   "outputs": [],
   "source": [
    "import os\n",
    "import urllib\n",
    "from pathlib import Path\n",
    "\n",
    "from datature.nexus import Client, ApiTypes"
   ]
  },
  {
   "cell_type": "code",
   "execution_count": 3,
   "metadata": {},
   "outputs": [],
   "source": [
    "# Change this to your project secret key to the new project you want to upload your sliced images to\n",
    "# It can be located on Nexus under the Integrations tab in your project page\n",
    "SECRET_KEY = \"<YOUR_SECRET_KEY>\"\n",
    "\n",
    "# Change this to your project ID on Nexus. This can be found via two methods:\n",
    "# 1. In the URL of the project page (https://nexus.datature.io/project/<YOUR_PROJECT_ID>)\n",
    "# 2. Project Key in the Integrations page\n",
    "PROJECT_ID = \"proj_<YOUR_PROJECT_ID>\""
   ]
  },
  {
   "cell_type": "code",
   "execution_count": 4,
   "metadata": {},
   "outputs": [],
   "source": [
    "client = Client(SECRET_KEY)\n",
    "project = client.get_project(PROJECT_ID)"
   ]
  },
  {
   "cell_type": "markdown",
   "metadata": {},
   "source": [
    "### Download images\n",
    "\n",
    "Images from your Nexus project will be downloaded and saved to the `images` folder. Datature Python SDK has an asset pagination limit of 100, so multiple calls will made to the API to download all images if your project has more than 100 images."
   ]
  },
  {
   "cell_type": "code",
   "execution_count": 5,
   "metadata": {},
   "outputs": [
    {
     "name": "stdout",
     "output_type": "stream",
     "text": [
      "Downloading images from Nexus...\n",
      "100 images saved to: images\n"
     ]
    }
   ],
   "source": [
    "# Change this to the directory you want to store your images\n",
    "image_dir = Path(\"images\")\n",
    "os.makedirs(image_dir, exist_ok=True)\n",
    "\n",
    "# Download images from Nexus\n",
    "print(\"Downloading images from Nexus...\")\n",
    "urls = []\n",
    "assets = project.assets.list({\"limit\": 100})\n",
    "urls.extend([(asset[\"filename\"], asset[\"url\"]) for asset in assets[\"data\"]])\n",
    "next_page = assets[\"next_page\"]\n",
    "\n",
    "while next_page:\n",
    "    assets = project.assets.list(\n",
    "        {\n",
    "            \"limit\": 100,\n",
    "            \"page\": next_page,\n",
    "        }\n",
    "    )\n",
    "    urls.extend([(asset[\"filename\"], asset[\"url\"]) for asset in assets[\"data\"]])\n",
    "    next_page = assets[\"next_page\"]\n",
    "\n",
    "for filename, url in urls:\n",
    "    urllib.request.urlretrieve(url, os.path.join(image_dir, filename))\n",
    "print(f\"{len(urls)} images saved to: {image_dir}\")"
   ]
  },
  {
   "cell_type": "markdown",
   "metadata": {},
   "source": [
    "### Export and download annotations\n",
    "\n",
    "Datature supports the annotation formats listed [here](https://developers.datature.io/docs/exporting-annotations#annotation-formats). You can choose various formats depending on whether your annotations are bounding boxes or polygons."
   ]
  },
  {
   "cell_type": "code",
   "execution_count": 6,
   "metadata": {},
   "outputs": [
    {
     "name": "stdout",
     "output_type": "stream",
     "text": [
      "Downloading annotations from Nexus...\n",
      "Annotations saved to: 41b8e35ec179b34adf19e3c670daa3de/dump.json\n"
     ]
    }
   ],
   "source": [
    "print(\"Downloading annotations from Nexus...\")\n",
    "annotation_dir = Path(\"annotations\")\n",
    "annotation_export_metadata = ApiTypes.AnnotationExportMetadata(\n",
    "    # change this to your desired annotation format\n",
    "    # supported formats are listed here\n",
    "    # https://developers.datature.io/docs/types-sdk-functions#annotationformat\n",
    "    format=\"coco\",\n",
    "    options=ApiTypes.AnnotationExportOptions(\n",
    "        # 0.0 means all annotations are stored in the same file,\n",
    "        # change this value if you want a train-test split\n",
    "        split_ratio=0.0,\n",
    "        normalized=False,\n",
    "        seed=0,\n",
    "    ),\n",
    ")\n",
    "operation = project.annotations.create_export(annotation_export_metadata)\n",
    "project.operations.wait_until_done(operation[\"id\"])\n",
    "annotation_results = project.annotations.download_exported_file(\n",
    "    operation[\"id\"], annotation_dir\n",
    ")\n",
    "annotation_filename = annotation_results[\"file_names\"][-1]\n",
    "print(f\"Annotations saved to: {annotation_filename}\")"
   ]
  }
 ],
 "metadata": {
  "kernelspec": {
   "display_name": "puppeteer",
   "language": "python",
   "name": "python3"
  },
  "language_info": {
   "codemirror_mode": {
    "name": "ipython",
    "version": 3
   },
   "file_extension": ".py",
   "mimetype": "text/x-python",
   "name": "python",
   "nbconvert_exporter": "python",
   "pygments_lexer": "ipython3",
   "version": "3.8.18"
  },
  "orig_nbformat": 4
 },
 "nbformat": 4,
 "nbformat_minor": 2
}
